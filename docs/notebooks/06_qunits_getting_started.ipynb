{
 "cells": [
  {
   "cell_type": "markdown",
   "metadata": {},
   "source": [
    "# Getting started with qUnits"
   ]
  },
  {
   "cell_type": "code",
   "execution_count": 1,
   "metadata": {},
   "outputs": [],
   "source": [
    "import qrobot\n",
    "import time"
   ]
  },
  {
   "cell_type": "markdown",
   "metadata": {},
   "source": [
    "## Set up a basic qBrain"
   ]
  },
  {
   "cell_type": "markdown",
   "metadata": {},
   "source": [
    "First, define a sensorial input:"
   ]
  },
  {
   "cell_type": "code",
   "execution_count": 2,
   "metadata": {},
   "outputs": [],
   "source": [
    "# Layer 0 - Unit 0\n",
    "l0_unit0 = qrobot.qunits.SensorialUnit(\"l0_unit_0\", Ts=0.1)"
   ]
  },
  {
   "cell_type": "code",
   "execution_count": 3,
   "metadata": {},
   "outputs": [
    {
     "data": {
      "text/plain": [
       "SensorialUnit \"l0_unit_0-32162d\"\n",
       "     name:\tl0_unit_0\n",
       "     id:\tl0_unit_0-32162d\n",
       "     Ts:\t0.1"
      ]
     },
     "execution_count": 3,
     "metadata": {},
     "output_type": "execute_result"
    }
   ],
   "source": [
    "l0_unit0"
   ]
  },
  {
   "cell_type": "markdown",
   "metadata": {},
   "source": [
    "Then, define a model and the desired bursts:"
   ]
  },
  {
   "cell_type": "code",
   "execution_count": 4,
   "metadata": {},
   "outputs": [
    {
     "data": {
      "text/plain": [
       "[model: AngularModel, n: 2, tau: 10]"
      ]
     },
     "execution_count": 4,
     "metadata": {},
     "output_type": "execute_result"
    }
   ],
   "source": [
    "qrobot.models.AngularModel(n=2, tau=10)"
   ]
  },
  {
   "cell_type": "code",
   "execution_count": 5,
   "metadata": {},
   "outputs": [
    {
     "data": {
      "text/plain": [
       "<qrobot.bursts.zeroburst.ZeroBurst at 0x7f9bfba6a970>"
      ]
     },
     "execution_count": 5,
     "metadata": {},
     "output_type": "execute_result"
    }
   ],
   "source": [
    "qrobot.bursts.ZeroBurst()"
   ]
  },
  {
   "cell_type": "code",
   "execution_count": 6,
   "metadata": {},
   "outputs": [
    {
     "data": {
      "text/plain": [
       "<qrobot.bursts.oneburst.OneBurst at 0x7f9bfba6ad00>"
      ]
     },
     "execution_count": 6,
     "metadata": {},
     "output_type": "execute_result"
    }
   ],
   "source": [
    "qrobot.bursts.OneBurst()"
   ]
  },
  {
   "cell_type": "markdown",
   "metadata": {},
   "source": [
    "You can use objects like those to create a basic qBrain:\n",
    "\n",
    "<img width=300 src=\"./06_imgs/tutorial_qunits_basicnetwork.png\"/>"
   ]
  },
  {
   "cell_type": "code",
   "execution_count": 7,
   "metadata": {},
   "outputs": [],
   "source": [
    "from qrobot.models import AngularModel\n",
    "from qrobot.bursts import ZeroBurst, OneBurst\n",
    "\n",
    "# Layer 1 - Unit 0\n",
    "l1_unit0 = qrobot.qunits.QUnit(\n",
    "    name=\"l1_unit0\",\n",
    "    model=AngularModel(n=1, tau=10),\n",
    "    burst=OneBurst(),\n",
    "    Ts=0.3,\n",
    "    in_qunits={0: l0_unit0.id},  # Will receive Input from l0_unit0, dim 0\n",
    ")\n",
    "\n",
    "# Layer 1 - Unit 1\n",
    "l1_unit1 = qrobot.qunits.QUnit(\n",
    "    name=\"l1_unit1\",\n",
    "    model=AngularModel(n=1, tau=25),\n",
    "    burst=ZeroBurst(),\n",
    "    Ts=0.2,\n",
    "    in_qunits={0: l0_unit0.id},  # Will receive input from l0_unit0, dim 1\n",
    ")"
   ]
  },
  {
   "cell_type": "code",
   "execution_count": null,
   "metadata": {},
   "outputs": [],
   "source": [
    "l1_unit0"
   ]
  },
  {
   "cell_type": "code",
   "execution_count": null,
   "metadata": {},
   "outputs": [],
   "source": [
    "l1_unit1"
   ]
  },
  {
   "cell_type": "markdown",
   "metadata": {},
   "source": [
    "## Inputs and queries"
   ]
  },
  {
   "cell_type": "markdown",
   "metadata": {},
   "source": [
    "Check the default input for `l0_unit0`:"
   ]
  },
  {
   "cell_type": "code",
   "execution_count": null,
   "metadata": {},
   "outputs": [],
   "source": [
    "l0_unit0.scalar_reading"
   ]
  },
  {
   "cell_type": "markdown",
   "metadata": {},
   "source": [
    "The input units for each qUnit are:"
   ]
  },
  {
   "cell_type": "code",
   "execution_count": null,
   "metadata": {},
   "outputs": [],
   "source": [
    "print(l1_unit0.in_qunits)\n",
    "print(l1_unit1.in_qunits)"
   ]
  },
  {
   "cell_type": "markdown",
   "metadata": {},
   "source": [
    "Modify `l1_unit1` query:"
   ]
  },
  {
   "cell_type": "code",
   "execution_count": null,
   "metadata": {},
   "outputs": [],
   "source": [
    "l1_unit1.query = 0.8"
   ]
  },
  {
   "cell_type": "markdown",
   "metadata": {},
   "source": [
    "## Real-time processing"
   ]
  },
  {
   "cell_type": "code",
   "execution_count": null,
   "metadata": {},
   "outputs": [],
   "source": [
    "l0_unit0.start()\n",
    "l1_unit0.start()\n",
    "l1_unit1.start()"
   ]
  },
  {
   "cell_type": "markdown",
   "metadata": {},
   "source": [
    "Visualize the time evolution of the system from the redis status for 30 seconds changing the input with a random input:"
   ]
  },
  {
   "cell_type": "code",
   "execution_count": null,
   "metadata": {},
   "outputs": [],
   "source": [
    "import time\n",
    "import json\n",
    "from random import randint\n",
    "from IPython.display import clear_output\n",
    "\n",
    "statuses = []\n",
    "refresh_time = 0.5  # Read statuses every 0.5 seconds\n",
    "\n",
    "for i in range(int(30 * (1 / refresh_time))):\n",
    "    # Wait and then clean the output\n",
    "    time.sleep(refresh_time)\n",
    "    clear_output(wait=True)\n",
    "\n",
    "    # Change input every 2 second\n",
    "    if (i * refresh_time) % 2 == 0:\n",
    "        l0_unit0.scalar_reading = randint(0, 1000) / 1000\n",
    "\n",
    "    # Read statused and store it\n",
    "    status = qrobot.qunits.redis_utils.redis_status()\n",
    "    statuses.append(status)\n",
    "\n",
    "    # Print output\n",
    "    print(json.dumps(status, indent=1, sort_keys=True))\n",
    "    print(int(i * refresh_time), \"/30 seconds\")\n",
    "\n",
    "    # Plot graph\n",
    "    qbrain_graph = qrobot.graph(status)\n",
    "    qrobot.draw(qbrain_graph)"
   ]
  },
  {
   "cell_type": "markdown",
   "metadata": {},
   "source": [
    "Read manually the latest outputs of the qunits found on the redis database:"
   ]
  },
  {
   "cell_type": "code",
   "execution_count": null,
   "metadata": {},
   "outputs": [],
   "source": [
    "l1_unit0.get_burst_output()"
   ]
  },
  {
   "cell_type": "code",
   "execution_count": null,
   "metadata": {},
   "outputs": [],
   "source": [
    "l1_unit1.get_burst_output()"
   ]
  },
  {
   "cell_type": "markdown",
   "metadata": {},
   "source": [
    "Stop the processing loops:"
   ]
  },
  {
   "cell_type": "code",
   "execution_count": null,
   "metadata": {
    "scrolled": true
   },
   "outputs": [],
   "source": [
    "l0_unit0.stop()\n",
    "l1_unit0.stop()\n",
    "l1_unit1.stop()"
   ]
  },
  {
   "cell_type": "markdown",
   "metadata": {},
   "source": [
    "Flush the redis to clean all traces (should not be necessary if the qUnits processing loops stopped correctly):"
   ]
  },
  {
   "cell_type": "code",
   "execution_count": null,
   "metadata": {},
   "outputs": [],
   "source": [
    "qrobot.qunits.redis_utils.redis_status()"
   ]
  },
  {
   "cell_type": "code",
   "execution_count": null,
   "metadata": {},
   "outputs": [],
   "source": [
    "qrobot.qunits.redis_utils.flush_redis()"
   ]
  },
  {
   "cell_type": "markdown",
   "metadata": {},
   "source": [
    "## Visualize the results"
   ]
  },
  {
   "cell_type": "markdown",
   "metadata": {},
   "source": [
    "We can visualize the time evolution of such time period:"
   ]
  },
  {
   "cell_type": "code",
   "execution_count": null,
   "metadata": {},
   "outputs": [],
   "source": [
    "import numpy as np\n",
    "import pandas as pd\n",
    "import matplotlib.pyplot as plt\n",
    "\n",
    "status_df = pd.DataFrame(statuses)\n",
    "units = [l0_unit0.id + \" output\", l1_unit0.id + \" output\", l1_unit1.id + \" output\"]\n",
    "status_df = status_df[units]\n",
    "status_df = status_df.astype(np.float64)\n",
    "status_df.index = status_df.index * refresh_time\n",
    "\n",
    "fig, ax = plt.subplots(1, 1, figsize=(15, 5))\n",
    "# Plot time evolution\n",
    "styles = [\"g\", \"y\", \"b\"]\n",
    "status_df[units].plot(style=styles, ax=ax)\n",
    "# Plot queries as dashed lines\n",
    "ax.hlines(\n",
    "    y=l1_unit0.query, xmin=0, xmax=30, linewidth=1, color=\"y\", linestyles=\"dashed\"\n",
    ")\n",
    "ax.hlines(\n",
    "    y=l1_unit1.query, xmin=0, xmax=30, linewidth=1, color=\"b\", linestyles=\"dashed\"\n",
    ")\n",
    "plt.show()"
   ]
  },
  {
   "cell_type": "markdown",
   "metadata": {},
   "source": [
    "Focusing on `l1_unit0`:"
   ]
  },
  {
   "cell_type": "code",
   "execution_count": null,
   "metadata": {},
   "outputs": [],
   "source": [
    "print(l1_unit0)\n",
    "fig, ax = plt.subplots(1, 1, figsize=(15, 5))\n",
    "# Plot time evolution\n",
    "units = [l0_unit0.id + \" output\", l1_unit0.id + \" output\"]\n",
    "styles = [\"g\", \"b\"]\n",
    "status_df[units].plot(style=styles, ax=ax)\n",
    "# Plot time windows\n",
    "t_start = status_df[l1_unit0.id + \" output\"].dropna().index[0]\n",
    "t_step = l1_unit0.model.tau * l1_unit0.Ts\n",
    "t_windows = np.arange(t_start, 31, t_step)\n",
    "plt.vlines(x=t_windows, ymin=0, ymax=1, colors=\"gray\", ls=\"dotted\", lw=1)\n",
    "# Plot query as dashed line\n",
    "ax.hlines(y=l1_unit0.query, xmin=t_start, xmax=30, linewidth=1, color=\"b\", ls=\"dashed\")\n",
    "plt.show()"
   ]
  },
  {
   "cell_type": "markdown",
   "metadata": {},
   "source": [
    "Focusing on `l1_unit1`:"
   ]
  },
  {
   "cell_type": "code",
   "execution_count": null,
   "metadata": {},
   "outputs": [],
   "source": [
    "print(l1_unit1)\n",
    "fig, ax = plt.subplots(1, 1, figsize=(15, 5))\n",
    "# Plot time evolution\n",
    "units = [l0_unit0.id + \" output\", l1_unit1.id + \" output\"]\n",
    "styles = [\"g\", \"b\"]\n",
    "status_df[units].plot(style=styles, ax=ax)\n",
    "# Plot time windows\n",
    "t_start = status_df[l1_unit1.id + \" output\"].dropna().index[0]\n",
    "t_step = l1_unit1.model.tau * l1_unit1.Ts\n",
    "t_windows = np.arange(t_start, 31, t_step)\n",
    "plt.vlines(x=t_windows, ymin=0, ymax=1, colors=\"gray\", ls=\"dotted\", lw=1)\n",
    "# Plot query as dashed line\n",
    "ax.hlines(y=l1_unit1.query, xmin=t_start, xmax=30, linewidth=1, color=\"b\", ls=\"dashed\")\n",
    "plt.show()"
   ]
  },
  {
   "cell_type": "markdown",
   "metadata": {},
   "source": [
    "## Detailed logs"
   ]
  },
  {
   "cell_type": "markdown",
   "metadata": {},
   "source": [
    "Print the last 30 lines of the log:"
   ]
  },
  {
   "cell_type": "code",
   "execution_count": null,
   "metadata": {},
   "outputs": [],
   "source": [
    "def print_log(filter_by: \"list[str]\" = None, n_lines: int = 30):\n",
    "    log_file = qrobot._logger.log_file()\n",
    "    i = 0\n",
    "    with open(log_file) as log:\n",
    "        for line in log.readlines()[-n_lines:]:\n",
    "            if filter_by is None or all(x in line for x in filter_by):\n",
    "                print(line, end=\"\")\n",
    "                i += 1\n",
    "            if i >= n_lines:\n",
    "                break\n",
    "\n",
    "\n",
    "print_log()"
   ]
  },
  {
   "cell_type": "markdown",
   "metadata": {},
   "source": [
    "Print the last lines of the log only for `l1_unit1`:"
   ]
  },
  {
   "cell_type": "code",
   "execution_count": null,
   "metadata": {},
   "outputs": [],
   "source": [
    "print_log([\"l1_unit1\"], 200)"
   ]
  },
  {
   "cell_type": "code",
   "execution_count": null,
   "metadata": {},
   "outputs": [],
   "source": [
    "print(\"Time window time:\", l1_unit1.Ts * l1_unit1.model.tau, \"seconds\")\n",
    "print_log([\"l1_unit1\", \"Output state = \"], 1000)"
   ]
  }
 ],
 "metadata": {
  "kernelspec": {
   "display_name": "Python 3 (ipykernel)",
   "language": "python",
   "name": "python3"
  },
  "language_info": {
   "codemirror_mode": {
    "name": "ipython",
    "version": 3
   },
   "file_extension": ".py",
   "mimetype": "text/x-python",
   "name": "python",
   "nbconvert_exporter": "python",
   "pygments_lexer": "ipython3",
   "version": "3.8.10"
  }
 },
 "nbformat": 4,
 "nbformat_minor": 4
}
