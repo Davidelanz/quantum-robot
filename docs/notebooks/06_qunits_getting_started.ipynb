{
 "cells": [
  {
   "cell_type": "markdown",
   "metadata": {},
   "source": [
    "# Getting started with qUnits"
   ]
  },
  {
   "cell_type": "code",
   "execution_count": 1,
   "metadata": {},
   "outputs": [],
   "source": [
    "import qrobot\n",
    "import time"
   ]
  },
  {
   "cell_type": "markdown",
   "metadata": {},
   "source": [
    "## Set up a basic qBrain"
   ]
  },
  {
   "cell_type": "markdown",
   "metadata": {},
   "source": [
    "First, define a sensorial input:"
   ]
  },
  {
   "cell_type": "code",
   "execution_count": 2,
   "metadata": {},
   "outputs": [],
   "source": [
    "# Layer 0 - Unit 0\n",
    "l0_unit0 = qrobot.qunits.SensorialUnit(\"l0_unit_0\", Ts=0.1)"
   ]
  },
  {
   "cell_type": "code",
   "execution_count": 3,
   "metadata": {},
   "outputs": [
    {
     "data": {
      "text/plain": [
       "SensorialUnit \"l0_unit_0-9ac03c\"\n",
       "     name:\tl0_unit_0\n",
       "     id:\tl0_unit_0-9ac03c\n",
       "     Ts:\t0.1"
      ]
     },
     "execution_count": 3,
     "metadata": {},
     "output_type": "execute_result"
    }
   ],
   "source": [
    "l0_unit0"
   ]
  },
  {
   "cell_type": "markdown",
   "metadata": {},
   "source": [
    "Then, define a model and the desired bursts:"
   ]
  },
  {
   "cell_type": "code",
   "execution_count": 4,
   "metadata": {},
   "outputs": [
    {
     "data": {
      "text/plain": [
       "[model: AngularModel, n: 2, tau: 10]"
      ]
     },
     "execution_count": 4,
     "metadata": {},
     "output_type": "execute_result"
    }
   ],
   "source": [
    "qrobot.models.AngularModel(n=2, tau=10)"
   ]
  },
  {
   "cell_type": "code",
   "execution_count": 5,
   "metadata": {},
   "outputs": [
    {
     "data": {
      "text/plain": [
       "<qrobot.bursts.zeroburst.ZeroBurst at 0x7f224ab29dc0>"
      ]
     },
     "execution_count": 5,
     "metadata": {},
     "output_type": "execute_result"
    }
   ],
   "source": [
    "qrobot.bursts.ZeroBurst()"
   ]
  },
  {
   "cell_type": "code",
   "execution_count": 6,
   "metadata": {},
   "outputs": [
    {
     "data": {
      "text/plain": [
       "<qrobot.bursts.oneburst.OneBurst at 0x7f224ab9d100>"
      ]
     },
     "execution_count": 6,
     "metadata": {},
     "output_type": "execute_result"
    }
   ],
   "source": [
    "qrobot.bursts.OneBurst()"
   ]
  },
  {
   "cell_type": "markdown",
   "metadata": {},
   "source": [
    "You can use objects like those to create a basic qBrain:\n",
    "\n",
    "<img width=300 src=\"./06_imgs/tutorial_qunits_basicnetwork.png\"/>"
   ]
  },
  {
   "cell_type": "code",
   "execution_count": 7,
   "metadata": {},
   "outputs": [],
   "source": [
    "from qrobot.models import AngularModel\n",
    "from qrobot.bursts import ZeroBurst, OneBurst\n",
    "\n",
    "# Layer 1 - Unit 0\n",
    "l1_unit0 = qrobot.qunits.QUnit(\n",
    "    name=\"l1_unit0\",\n",
    "    model=AngularModel(n=1, tau=10),\n",
    "    burst=OneBurst(),\n",
    "    Ts=0.3,\n",
    "    in_qunits={0: l0_unit0.id},  # Will receive Input from l0_unit0, dim 0\n",
    ")\n",
    "\n",
    "# Layer 1 - Unit 1\n",
    "l1_unit1 = qrobot.qunits.QUnit(\n",
    "    name=\"l1_unit1\",\n",
    "    model=AngularModel(n=1, tau=25),\n",
    "    burst=ZeroBurst(),\n",
    "    Ts=0.2,\n",
    "    in_qunits={0: l0_unit0.id},  # Will receive input from l0_unit0, dim 1\n",
    ")"
   ]
  },
  {
   "cell_type": "code",
   "execution_count": 8,
   "metadata": {},
   "outputs": [
    {
     "data": {
      "text/plain": [
       "QUnit \"l1_unit0-74d145\"\n",
       "     name:\tl1_unit0\n",
       "     id:\tl1_unit0-74d145\n",
       "     model:\t[model: AngularModel, n: 1, tau: 10]\n",
       "     burst:\t<class 'qrobot.bursts.oneburst.OneBurst'>\n",
       "     query:\t[0.0]\n",
       "     Ts:\t0.3"
      ]
     },
     "execution_count": 8,
     "metadata": {},
     "output_type": "execute_result"
    }
   ],
   "source": [
    "l1_unit0"
   ]
  },
  {
   "cell_type": "code",
   "execution_count": 9,
   "metadata": {},
   "outputs": [
    {
     "data": {
      "text/plain": [
       "QUnit \"l1_unit1-a89a3a\"\n",
       "     name:\tl1_unit1\n",
       "     id:\tl1_unit1-a89a3a\n",
       "     model:\t[model: AngularModel, n: 1, tau: 25]\n",
       "     burst:\t<class 'qrobot.bursts.zeroburst.ZeroBurst'>\n",
       "     query:\t[0.0]\n",
       "     Ts:\t0.2"
      ]
     },
     "execution_count": 9,
     "metadata": {},
     "output_type": "execute_result"
    }
   ],
   "source": [
    "l1_unit1"
   ]
  },
  {
   "cell_type": "markdown",
   "metadata": {},
   "source": [
    "## Inputs and queries"
   ]
  },
  {
   "cell_type": "markdown",
   "metadata": {},
   "source": [
    "Check the default input for `l0_unit0`:"
   ]
  },
  {
   "cell_type": "code",
   "execution_count": 10,
   "metadata": {},
   "outputs": [
    {
     "data": {
      "text/plain": [
       "0.0"
      ]
     },
     "execution_count": 10,
     "metadata": {},
     "output_type": "execute_result"
    }
   ],
   "source": [
    "l0_unit0.scalar_reading"
   ]
  },
  {
   "cell_type": "markdown",
   "metadata": {},
   "source": [
    "The input units for each qUnit are:"
   ]
  },
  {
   "cell_type": "code",
   "execution_count": 11,
   "metadata": {},
   "outputs": [
    {
     "name": "stdout",
     "output_type": "stream",
     "text": [
      "{0: 'l0_unit_0-9ac03c'}\n",
      "{0: 'l0_unit_0-9ac03c'}\n"
     ]
    }
   ],
   "source": [
    "print(l1_unit0.in_qunits)\n",
    "print(l1_unit1.in_qunits)"
   ]
  },
  {
   "cell_type": "markdown",
   "metadata": {},
   "source": [
    "Modify `l1_unit1` query:"
   ]
  },
  {
   "cell_type": "code",
   "execution_count": 12,
   "metadata": {},
   "outputs": [],
   "source": [
    "l1_unit1.query = 0.8"
   ]
  },
  {
   "cell_type": "markdown",
   "metadata": {},
   "source": [
    "## Real-time processing"
   ]
  },
  {
   "cell_type": "code",
   "execution_count": 13,
   "metadata": {},
   "outputs": [
    {
     "name": "stdout",
     "output_type": "stream",
     "text": [
      "2022-12-04 13:01:44,866 — l0_unit_0-9ac03c — INFO — start:72 — Starting SensorialUnit\n",
      "2022-12-04 13:01:44,886 — l1_unit0-74d145 — INFO — start:72 — Starting QUnit\n",
      "2022-12-04 13:01:44,902 — l1_unit1-a89a3a — INFO — start:72 — Starting QUnit\n",
      "2022-12-04 13:02:17,415 — l1_unit1-a89a3a — INFO — input_vector:153 — Unable to read l0_unit_0-9ac03c input\n"
     ]
    }
   ],
   "source": [
    "l0_unit0.start()\n",
    "l1_unit0.start()\n",
    "l1_unit1.start()"
   ]
  },
  {
   "cell_type": "markdown",
   "metadata": {},
   "source": [
    "Visualize the time evolution of the system from the redis status for 30 seconds changing the input with a random input:"
   ]
  },
  {
   "cell_type": "code",
   "execution_count": 14,
   "metadata": {},
   "outputs": [
    {
     "name": "stdout",
     "output_type": "stream",
     "text": [
      "{\n",
      " \"l0_unit_0-9ac03c class\": \"SensorialUnit\",\n",
      " \"l0_unit_0-9ac03c output\": \"0.438\",\n",
      " \"l1_unit0-74d145 class\": \"QUnit\",\n",
      " \"l1_unit0-74d145 in_qunits\": \"{\\\"0\\\": \\\"l0_unit_0-9ac03c\\\"}\",\n",
      " \"l1_unit0-74d145 output\": \"1.0\",\n",
      " \"l1_unit0-74d145 query\": \"[0.0]\",\n",
      " \"l1_unit0-74d145 state\": \"1\",\n",
      " \"l1_unit1-a89a3a class\": \"QUnit\",\n",
      " \"l1_unit1-a89a3a in_qunits\": \"{\\\"0\\\": \\\"l0_unit_0-9ac03c\\\"}\",\n",
      " \"l1_unit1-a89a3a output\": \"1.0\",\n",
      " \"l1_unit1-a89a3a query\": \"[0.8]\",\n",
      " \"l1_unit1-a89a3a state\": \"0\"\n",
      "}\n",
      "29 /30 seconds\n"
     ]
    },
    {
     "data": {
      "application/vnd.plotly.v1+json": {
       "config": {
        "plotlyServerURL": "https://plot.ly",
        "staticPlot": true
       },
       "data": [
        {
         "cliponaxis": false,
         "hoverinfo": "none",
         "line": {
          "color": "#ccd9ed",
          "width": 2
         },
         "mode": "lines+text",
         "text": [
          null,
          "0.438<br>",
          null
         ],
         "textfont": {
          "size": 12
         },
         "textposition": "top center",
         "type": "scatter",
         "x": [
          -1,
          -0.5,
          0
         ],
         "y": [
          -0.3333333333333333,
          0.1666666666666667,
          0.6666666666666667
         ]
        },
        {
         "cliponaxis": false,
         "hoverinfo": "none",
         "line": {
          "color": "#ccd9ed",
          "width": 2
         },
         "mode": "lines+text",
         "text": [
          null,
          "0.438<br>",
          null
         ],
         "textfont": {
          "size": 12
         },
         "textposition": "top center",
         "type": "scatter",
         "x": [
          -1,
          0,
          1
         ],
         "y": [
          -0.3333333333333333,
          -0.3333333333333333,
          -0.3333333333333333
         ]
        },
        {
         "cliponaxis": false,
         "hoverinfo": "none",
         "marker": {
          "color": [
           "#ccd9ed",
           "#b40426",
           "#b40426"
          ],
          "size": [
           25,
           25,
           25
          ]
         },
         "mode": "markers+text",
         "text": [
          "<b>SensorialUnit</b><br><i>l0_unit_0-9ac03c</i><br>Output: 0.438<br>",
          "<b>QUnit</b><br><i>l1_unit1-a89a3a</i><br>Query: [0.8]<br>State: |0⟩<br>Output: 1.0<br>",
          "<b>QUnit</b><br><i>l1_unit0-74d145</i><br>Query: [0.0]<br>State: |1⟩<br>Output: 1.0<br>"
         ],
         "textfont": {
          "size": 12
         },
         "textposition": "top center",
         "type": "scatter",
         "x": [
          -1,
          1,
          0
         ],
         "y": [
          -0.3333333333333333,
          -0.3333333333333333,
          0.6666666666666667
         ]
        }
       ],
       "layout": {
        "paper_bgcolor": "rgba(0,0,0,0)",
        "plot_bgcolor": "rgba(0,0,0,0)",
        "showlegend": false,
        "template": {
         "data": {
          "bar": [
           {
            "error_x": {
             "color": "#2a3f5f"
            },
            "error_y": {
             "color": "#2a3f5f"
            },
            "marker": {
             "line": {
              "color": "#E5ECF6",
              "width": 0.5
             },
             "pattern": {
              "fillmode": "overlay",
              "size": 10,
              "solidity": 0.2
             }
            },
            "type": "bar"
           }
          ],
          "barpolar": [
           {
            "marker": {
             "line": {
              "color": "#E5ECF6",
              "width": 0.5
             },
             "pattern": {
              "fillmode": "overlay",
              "size": 10,
              "solidity": 0.2
             }
            },
            "type": "barpolar"
           }
          ],
          "carpet": [
           {
            "aaxis": {
             "endlinecolor": "#2a3f5f",
             "gridcolor": "white",
             "linecolor": "white",
             "minorgridcolor": "white",
             "startlinecolor": "#2a3f5f"
            },
            "baxis": {
             "endlinecolor": "#2a3f5f",
             "gridcolor": "white",
             "linecolor": "white",
             "minorgridcolor": "white",
             "startlinecolor": "#2a3f5f"
            },
            "type": "carpet"
           }
          ],
          "choropleth": [
           {
            "colorbar": {
             "outlinewidth": 0,
             "ticks": ""
            },
            "type": "choropleth"
           }
          ],
          "contour": [
           {
            "colorbar": {
             "outlinewidth": 0,
             "ticks": ""
            },
            "colorscale": [
             [
              0,
              "#0d0887"
             ],
             [
              0.1111111111111111,
              "#46039f"
             ],
             [
              0.2222222222222222,
              "#7201a8"
             ],
             [
              0.3333333333333333,
              "#9c179e"
             ],
             [
              0.4444444444444444,
              "#bd3786"
             ],
             [
              0.5555555555555556,
              "#d8576b"
             ],
             [
              0.6666666666666666,
              "#ed7953"
             ],
             [
              0.7777777777777778,
              "#fb9f3a"
             ],
             [
              0.8888888888888888,
              "#fdca26"
             ],
             [
              1,
              "#f0f921"
             ]
            ],
            "type": "contour"
           }
          ],
          "contourcarpet": [
           {
            "colorbar": {
             "outlinewidth": 0,
             "ticks": ""
            },
            "type": "contourcarpet"
           }
          ],
          "heatmap": [
           {
            "colorbar": {
             "outlinewidth": 0,
             "ticks": ""
            },
            "colorscale": [
             [
              0,
              "#0d0887"
             ],
             [
              0.1111111111111111,
              "#46039f"
             ],
             [
              0.2222222222222222,
              "#7201a8"
             ],
             [
              0.3333333333333333,
              "#9c179e"
             ],
             [
              0.4444444444444444,
              "#bd3786"
             ],
             [
              0.5555555555555556,
              "#d8576b"
             ],
             [
              0.6666666666666666,
              "#ed7953"
             ],
             [
              0.7777777777777778,
              "#fb9f3a"
             ],
             [
              0.8888888888888888,
              "#fdca26"
             ],
             [
              1,
              "#f0f921"
             ]
            ],
            "type": "heatmap"
           }
          ],
          "heatmapgl": [
           {
            "colorbar": {
             "outlinewidth": 0,
             "ticks": ""
            },
            "colorscale": [
             [
              0,
              "#0d0887"
             ],
             [
              0.1111111111111111,
              "#46039f"
             ],
             [
              0.2222222222222222,
              "#7201a8"
             ],
             [
              0.3333333333333333,
              "#9c179e"
             ],
             [
              0.4444444444444444,
              "#bd3786"
             ],
             [
              0.5555555555555556,
              "#d8576b"
             ],
             [
              0.6666666666666666,
              "#ed7953"
             ],
             [
              0.7777777777777778,
              "#fb9f3a"
             ],
             [
              0.8888888888888888,
              "#fdca26"
             ],
             [
              1,
              "#f0f921"
             ]
            ],
            "type": "heatmapgl"
           }
          ],
          "histogram": [
           {
            "marker": {
             "pattern": {
              "fillmode": "overlay",
              "size": 10,
              "solidity": 0.2
             }
            },
            "type": "histogram"
           }
          ],
          "histogram2d": [
           {
            "colorbar": {
             "outlinewidth": 0,
             "ticks": ""
            },
            "colorscale": [
             [
              0,
              "#0d0887"
             ],
             [
              0.1111111111111111,
              "#46039f"
             ],
             [
              0.2222222222222222,
              "#7201a8"
             ],
             [
              0.3333333333333333,
              "#9c179e"
             ],
             [
              0.4444444444444444,
              "#bd3786"
             ],
             [
              0.5555555555555556,
              "#d8576b"
             ],
             [
              0.6666666666666666,
              "#ed7953"
             ],
             [
              0.7777777777777778,
              "#fb9f3a"
             ],
             [
              0.8888888888888888,
              "#fdca26"
             ],
             [
              1,
              "#f0f921"
             ]
            ],
            "type": "histogram2d"
           }
          ],
          "histogram2dcontour": [
           {
            "colorbar": {
             "outlinewidth": 0,
             "ticks": ""
            },
            "colorscale": [
             [
              0,
              "#0d0887"
             ],
             [
              0.1111111111111111,
              "#46039f"
             ],
             [
              0.2222222222222222,
              "#7201a8"
             ],
             [
              0.3333333333333333,
              "#9c179e"
             ],
             [
              0.4444444444444444,
              "#bd3786"
             ],
             [
              0.5555555555555556,
              "#d8576b"
             ],
             [
              0.6666666666666666,
              "#ed7953"
             ],
             [
              0.7777777777777778,
              "#fb9f3a"
             ],
             [
              0.8888888888888888,
              "#fdca26"
             ],
             [
              1,
              "#f0f921"
             ]
            ],
            "type": "histogram2dcontour"
           }
          ],
          "mesh3d": [
           {
            "colorbar": {
             "outlinewidth": 0,
             "ticks": ""
            },
            "type": "mesh3d"
           }
          ],
          "parcoords": [
           {
            "line": {
             "colorbar": {
              "outlinewidth": 0,
              "ticks": ""
             }
            },
            "type": "parcoords"
           }
          ],
          "pie": [
           {
            "automargin": true,
            "type": "pie"
           }
          ],
          "scatter": [
           {
            "fillpattern": {
             "fillmode": "overlay",
             "size": 10,
             "solidity": 0.2
            },
            "type": "scatter"
           }
          ],
          "scatter3d": [
           {
            "line": {
             "colorbar": {
              "outlinewidth": 0,
              "ticks": ""
             }
            },
            "marker": {
             "colorbar": {
              "outlinewidth": 0,
              "ticks": ""
             }
            },
            "type": "scatter3d"
           }
          ],
          "scattercarpet": [
           {
            "marker": {
             "colorbar": {
              "outlinewidth": 0,
              "ticks": ""
             }
            },
            "type": "scattercarpet"
           }
          ],
          "scattergeo": [
           {
            "marker": {
             "colorbar": {
              "outlinewidth": 0,
              "ticks": ""
             }
            },
            "type": "scattergeo"
           }
          ],
          "scattergl": [
           {
            "marker": {
             "colorbar": {
              "outlinewidth": 0,
              "ticks": ""
             }
            },
            "type": "scattergl"
           }
          ],
          "scattermapbox": [
           {
            "marker": {
             "colorbar": {
              "outlinewidth": 0,
              "ticks": ""
             }
            },
            "type": "scattermapbox"
           }
          ],
          "scatterpolar": [
           {
            "marker": {
             "colorbar": {
              "outlinewidth": 0,
              "ticks": ""
             }
            },
            "type": "scatterpolar"
           }
          ],
          "scatterpolargl": [
           {
            "marker": {
             "colorbar": {
              "outlinewidth": 0,
              "ticks": ""
             }
            },
            "type": "scatterpolargl"
           }
          ],
          "scatterternary": [
           {
            "marker": {
             "colorbar": {
              "outlinewidth": 0,
              "ticks": ""
             }
            },
            "type": "scatterternary"
           }
          ],
          "surface": [
           {
            "colorbar": {
             "outlinewidth": 0,
             "ticks": ""
            },
            "colorscale": [
             [
              0,
              "#0d0887"
             ],
             [
              0.1111111111111111,
              "#46039f"
             ],
             [
              0.2222222222222222,
              "#7201a8"
             ],
             [
              0.3333333333333333,
              "#9c179e"
             ],
             [
              0.4444444444444444,
              "#bd3786"
             ],
             [
              0.5555555555555556,
              "#d8576b"
             ],
             [
              0.6666666666666666,
              "#ed7953"
             ],
             [
              0.7777777777777778,
              "#fb9f3a"
             ],
             [
              0.8888888888888888,
              "#fdca26"
             ],
             [
              1,
              "#f0f921"
             ]
            ],
            "type": "surface"
           }
          ],
          "table": [
           {
            "cells": {
             "fill": {
              "color": "#EBF0F8"
             },
             "line": {
              "color": "white"
             }
            },
            "header": {
             "fill": {
              "color": "#C8D4E3"
             },
             "line": {
              "color": "white"
             }
            },
            "type": "table"
           }
          ]
         },
         "layout": {
          "annotationdefaults": {
           "arrowcolor": "#2a3f5f",
           "arrowhead": 0,
           "arrowwidth": 1
          },
          "autotypenumbers": "strict",
          "coloraxis": {
           "colorbar": {
            "outlinewidth": 0,
            "ticks": ""
           }
          },
          "colorscale": {
           "diverging": [
            [
             0,
             "#8e0152"
            ],
            [
             0.1,
             "#c51b7d"
            ],
            [
             0.2,
             "#de77ae"
            ],
            [
             0.3,
             "#f1b6da"
            ],
            [
             0.4,
             "#fde0ef"
            ],
            [
             0.5,
             "#f7f7f7"
            ],
            [
             0.6,
             "#e6f5d0"
            ],
            [
             0.7,
             "#b8e186"
            ],
            [
             0.8,
             "#7fbc41"
            ],
            [
             0.9,
             "#4d9221"
            ],
            [
             1,
             "#276419"
            ]
           ],
           "sequential": [
            [
             0,
             "#0d0887"
            ],
            [
             0.1111111111111111,
             "#46039f"
            ],
            [
             0.2222222222222222,
             "#7201a8"
            ],
            [
             0.3333333333333333,
             "#9c179e"
            ],
            [
             0.4444444444444444,
             "#bd3786"
            ],
            [
             0.5555555555555556,
             "#d8576b"
            ],
            [
             0.6666666666666666,
             "#ed7953"
            ],
            [
             0.7777777777777778,
             "#fb9f3a"
            ],
            [
             0.8888888888888888,
             "#fdca26"
            ],
            [
             1,
             "#f0f921"
            ]
           ],
           "sequentialminus": [
            [
             0,
             "#0d0887"
            ],
            [
             0.1111111111111111,
             "#46039f"
            ],
            [
             0.2222222222222222,
             "#7201a8"
            ],
            [
             0.3333333333333333,
             "#9c179e"
            ],
            [
             0.4444444444444444,
             "#bd3786"
            ],
            [
             0.5555555555555556,
             "#d8576b"
            ],
            [
             0.6666666666666666,
             "#ed7953"
            ],
            [
             0.7777777777777778,
             "#fb9f3a"
            ],
            [
             0.8888888888888888,
             "#fdca26"
            ],
            [
             1,
             "#f0f921"
            ]
           ]
          },
          "colorway": [
           "#636efa",
           "#EF553B",
           "#00cc96",
           "#ab63fa",
           "#FFA15A",
           "#19d3f3",
           "#FF6692",
           "#B6E880",
           "#FF97FF",
           "#FECB52"
          ],
          "font": {
           "color": "#2a3f5f"
          },
          "geo": {
           "bgcolor": "white",
           "lakecolor": "white",
           "landcolor": "#E5ECF6",
           "showlakes": true,
           "showland": true,
           "subunitcolor": "white"
          },
          "hoverlabel": {
           "align": "left"
          },
          "hovermode": "closest",
          "mapbox": {
           "style": "light"
          },
          "paper_bgcolor": "white",
          "plot_bgcolor": "#E5ECF6",
          "polar": {
           "angularaxis": {
            "gridcolor": "white",
            "linecolor": "white",
            "ticks": ""
           },
           "bgcolor": "#E5ECF6",
           "radialaxis": {
            "gridcolor": "white",
            "linecolor": "white",
            "ticks": ""
           }
          },
          "scene": {
           "xaxis": {
            "backgroundcolor": "#E5ECF6",
            "gridcolor": "white",
            "gridwidth": 2,
            "linecolor": "white",
            "showbackground": true,
            "ticks": "",
            "zerolinecolor": "white"
           },
           "yaxis": {
            "backgroundcolor": "#E5ECF6",
            "gridcolor": "white",
            "gridwidth": 2,
            "linecolor": "white",
            "showbackground": true,
            "ticks": "",
            "zerolinecolor": "white"
           },
           "zaxis": {
            "backgroundcolor": "#E5ECF6",
            "gridcolor": "white",
            "gridwidth": 2,
            "linecolor": "white",
            "showbackground": true,
            "ticks": "",
            "zerolinecolor": "white"
           }
          },
          "shapedefaults": {
           "line": {
            "color": "#2a3f5f"
           }
          },
          "ternary": {
           "aaxis": {
            "gridcolor": "white",
            "linecolor": "white",
            "ticks": ""
           },
           "baxis": {
            "gridcolor": "white",
            "linecolor": "white",
            "ticks": ""
           },
           "bgcolor": "#E5ECF6",
           "caxis": {
            "gridcolor": "white",
            "linecolor": "white",
            "ticks": ""
           }
          },
          "title": {
           "x": 0.05
          },
          "xaxis": {
           "automargin": true,
           "gridcolor": "white",
           "linecolor": "white",
           "ticks": "",
           "title": {
            "standoff": 15
           },
           "zerolinecolor": "white",
           "zerolinewidth": 2
          },
          "yaxis": {
           "automargin": true,
           "gridcolor": "white",
           "linecolor": "white",
           "ticks": "",
           "title": {
            "standoff": 15
           },
           "zerolinecolor": "white",
           "zerolinewidth": 2
          }
         }
        },
        "xaxis": {
         "showgrid": false,
         "showticklabels": false,
         "zeroline": false
        },
        "yaxis": {
         "showgrid": false,
         "showticklabels": false,
         "zeroline": false
        }
       }
      },
      "text/html": [
       "<div>                            <div id=\"95a5ad44-96de-4b8b-aa64-2aa7cbe027ed\" class=\"plotly-graph-div\" style=\"height:525px; width:100%;\"></div>            <script type=\"text/javascript\">                require([\"plotly\"], function(Plotly) {                    window.PLOTLYENV=window.PLOTLYENV || {};                                    if (document.getElementById(\"95a5ad44-96de-4b8b-aa64-2aa7cbe027ed\")) {                    Plotly.newPlot(                        \"95a5ad44-96de-4b8b-aa64-2aa7cbe027ed\",                        [{\"hoverinfo\":\"none\",\"line\":{\"color\":\"#ccd9ed\",\"width\":2},\"mode\":\"lines+text\",\"text\":[null,\"0.438<br>\",null],\"textfont\":{\"size\":12},\"textposition\":\"top center\",\"x\":[-1.0,-0.5,0.0],\"y\":[-0.3333333333333333,0.1666666666666667,0.6666666666666667],\"type\":\"scatter\",\"cliponaxis\":false},{\"hoverinfo\":\"none\",\"line\":{\"color\":\"#ccd9ed\",\"width\":2},\"mode\":\"lines+text\",\"text\":[null,\"0.438<br>\",null],\"textfont\":{\"size\":12},\"textposition\":\"top center\",\"x\":[-1.0,0.0,1.0],\"y\":[-0.3333333333333333,-0.3333333333333333,-0.3333333333333333],\"type\":\"scatter\",\"cliponaxis\":false},{\"hoverinfo\":\"none\",\"marker\":{\"color\":[\"#ccd9ed\",\"#b40426\",\"#b40426\"],\"size\":[25,25,25]},\"mode\":\"markers+text\",\"text\":[\"<b>SensorialUnit</b><br><i>l0_unit_0-9ac03c</i><br>Output: 0.438<br>\",\"<b>QUnit</b><br><i>l1_unit1-a89a3a</i><br>Query: [0.8]<br>State: |0\\u27e9<br>Output: 1.0<br>\",\"<b>QUnit</b><br><i>l1_unit0-74d145</i><br>Query: [0.0]<br>State: |1\\u27e9<br>Output: 1.0<br>\"],\"textfont\":{\"size\":12},\"textposition\":\"top center\",\"x\":[-1.0,1.0,0.0],\"y\":[-0.3333333333333333,-0.3333333333333333,0.6666666666666667],\"type\":\"scatter\",\"cliponaxis\":false}],                        {\"paper_bgcolor\":\"rgba(0,0,0,0)\",\"plot_bgcolor\":\"rgba(0,0,0,0)\",\"showlegend\":false,\"xaxis\":{\"showgrid\":false,\"showticklabels\":false,\"zeroline\":false},\"yaxis\":{\"showgrid\":false,\"showticklabels\":false,\"zeroline\":false},\"template\":{\"data\":{\"histogram2dcontour\":[{\"type\":\"histogram2dcontour\",\"colorbar\":{\"outlinewidth\":0,\"ticks\":\"\"},\"colorscale\":[[0.0,\"#0d0887\"],[0.1111111111111111,\"#46039f\"],[0.2222222222222222,\"#7201a8\"],[0.3333333333333333,\"#9c179e\"],[0.4444444444444444,\"#bd3786\"],[0.5555555555555556,\"#d8576b\"],[0.6666666666666666,\"#ed7953\"],[0.7777777777777778,\"#fb9f3a\"],[0.8888888888888888,\"#fdca26\"],[1.0,\"#f0f921\"]]}],\"choropleth\":[{\"type\":\"choropleth\",\"colorbar\":{\"outlinewidth\":0,\"ticks\":\"\"}}],\"histogram2d\":[{\"type\":\"histogram2d\",\"colorbar\":{\"outlinewidth\":0,\"ticks\":\"\"},\"colorscale\":[[0.0,\"#0d0887\"],[0.1111111111111111,\"#46039f\"],[0.2222222222222222,\"#7201a8\"],[0.3333333333333333,\"#9c179e\"],[0.4444444444444444,\"#bd3786\"],[0.5555555555555556,\"#d8576b\"],[0.6666666666666666,\"#ed7953\"],[0.7777777777777778,\"#fb9f3a\"],[0.8888888888888888,\"#fdca26\"],[1.0,\"#f0f921\"]]}],\"heatmap\":[{\"type\":\"heatmap\",\"colorbar\":{\"outlinewidth\":0,\"ticks\":\"\"},\"colorscale\":[[0.0,\"#0d0887\"],[0.1111111111111111,\"#46039f\"],[0.2222222222222222,\"#7201a8\"],[0.3333333333333333,\"#9c179e\"],[0.4444444444444444,\"#bd3786\"],[0.5555555555555556,\"#d8576b\"],[0.6666666666666666,\"#ed7953\"],[0.7777777777777778,\"#fb9f3a\"],[0.8888888888888888,\"#fdca26\"],[1.0,\"#f0f921\"]]}],\"heatmapgl\":[{\"type\":\"heatmapgl\",\"colorbar\":{\"outlinewidth\":0,\"ticks\":\"\"},\"colorscale\":[[0.0,\"#0d0887\"],[0.1111111111111111,\"#46039f\"],[0.2222222222222222,\"#7201a8\"],[0.3333333333333333,\"#9c179e\"],[0.4444444444444444,\"#bd3786\"],[0.5555555555555556,\"#d8576b\"],[0.6666666666666666,\"#ed7953\"],[0.7777777777777778,\"#fb9f3a\"],[0.8888888888888888,\"#fdca26\"],[1.0,\"#f0f921\"]]}],\"contourcarpet\":[{\"type\":\"contourcarpet\",\"colorbar\":{\"outlinewidth\":0,\"ticks\":\"\"}}],\"contour\":[{\"type\":\"contour\",\"colorbar\":{\"outlinewidth\":0,\"ticks\":\"\"},\"colorscale\":[[0.0,\"#0d0887\"],[0.1111111111111111,\"#46039f\"],[0.2222222222222222,\"#7201a8\"],[0.3333333333333333,\"#9c179e\"],[0.4444444444444444,\"#bd3786\"],[0.5555555555555556,\"#d8576b\"],[0.6666666666666666,\"#ed7953\"],[0.7777777777777778,\"#fb9f3a\"],[0.8888888888888888,\"#fdca26\"],[1.0,\"#f0f921\"]]}],\"surface\":[{\"type\":\"surface\",\"colorbar\":{\"outlinewidth\":0,\"ticks\":\"\"},\"colorscale\":[[0.0,\"#0d0887\"],[0.1111111111111111,\"#46039f\"],[0.2222222222222222,\"#7201a8\"],[0.3333333333333333,\"#9c179e\"],[0.4444444444444444,\"#bd3786\"],[0.5555555555555556,\"#d8576b\"],[0.6666666666666666,\"#ed7953\"],[0.7777777777777778,\"#fb9f3a\"],[0.8888888888888888,\"#fdca26\"],[1.0,\"#f0f921\"]]}],\"mesh3d\":[{\"type\":\"mesh3d\",\"colorbar\":{\"outlinewidth\":0,\"ticks\":\"\"}}],\"scatter\":[{\"fillpattern\":{\"fillmode\":\"overlay\",\"size\":10,\"solidity\":0.2},\"type\":\"scatter\"}],\"parcoords\":[{\"type\":\"parcoords\",\"line\":{\"colorbar\":{\"outlinewidth\":0,\"ticks\":\"\"}}}],\"scatterpolargl\":[{\"type\":\"scatterpolargl\",\"marker\":{\"colorbar\":{\"outlinewidth\":0,\"ticks\":\"\"}}}],\"bar\":[{\"error_x\":{\"color\":\"#2a3f5f\"},\"error_y\":{\"color\":\"#2a3f5f\"},\"marker\":{\"line\":{\"color\":\"#E5ECF6\",\"width\":0.5},\"pattern\":{\"fillmode\":\"overlay\",\"size\":10,\"solidity\":0.2}},\"type\":\"bar\"}],\"scattergeo\":[{\"type\":\"scattergeo\",\"marker\":{\"colorbar\":{\"outlinewidth\":0,\"ticks\":\"\"}}}],\"scatterpolar\":[{\"type\":\"scatterpolar\",\"marker\":{\"colorbar\":{\"outlinewidth\":0,\"ticks\":\"\"}}}],\"histogram\":[{\"marker\":{\"pattern\":{\"fillmode\":\"overlay\",\"size\":10,\"solidity\":0.2}},\"type\":\"histogram\"}],\"scattergl\":[{\"type\":\"scattergl\",\"marker\":{\"colorbar\":{\"outlinewidth\":0,\"ticks\":\"\"}}}],\"scatter3d\":[{\"type\":\"scatter3d\",\"line\":{\"colorbar\":{\"outlinewidth\":0,\"ticks\":\"\"}},\"marker\":{\"colorbar\":{\"outlinewidth\":0,\"ticks\":\"\"}}}],\"scattermapbox\":[{\"type\":\"scattermapbox\",\"marker\":{\"colorbar\":{\"outlinewidth\":0,\"ticks\":\"\"}}}],\"scatterternary\":[{\"type\":\"scatterternary\",\"marker\":{\"colorbar\":{\"outlinewidth\":0,\"ticks\":\"\"}}}],\"scattercarpet\":[{\"type\":\"scattercarpet\",\"marker\":{\"colorbar\":{\"outlinewidth\":0,\"ticks\":\"\"}}}],\"carpet\":[{\"aaxis\":{\"endlinecolor\":\"#2a3f5f\",\"gridcolor\":\"white\",\"linecolor\":\"white\",\"minorgridcolor\":\"white\",\"startlinecolor\":\"#2a3f5f\"},\"baxis\":{\"endlinecolor\":\"#2a3f5f\",\"gridcolor\":\"white\",\"linecolor\":\"white\",\"minorgridcolor\":\"white\",\"startlinecolor\":\"#2a3f5f\"},\"type\":\"carpet\"}],\"table\":[{\"cells\":{\"fill\":{\"color\":\"#EBF0F8\"},\"line\":{\"color\":\"white\"}},\"header\":{\"fill\":{\"color\":\"#C8D4E3\"},\"line\":{\"color\":\"white\"}},\"type\":\"table\"}],\"barpolar\":[{\"marker\":{\"line\":{\"color\":\"#E5ECF6\",\"width\":0.5},\"pattern\":{\"fillmode\":\"overlay\",\"size\":10,\"solidity\":0.2}},\"type\":\"barpolar\"}],\"pie\":[{\"automargin\":true,\"type\":\"pie\"}]},\"layout\":{\"autotypenumbers\":\"strict\",\"colorway\":[\"#636efa\",\"#EF553B\",\"#00cc96\",\"#ab63fa\",\"#FFA15A\",\"#19d3f3\",\"#FF6692\",\"#B6E880\",\"#FF97FF\",\"#FECB52\"],\"font\":{\"color\":\"#2a3f5f\"},\"hovermode\":\"closest\",\"hoverlabel\":{\"align\":\"left\"},\"paper_bgcolor\":\"white\",\"plot_bgcolor\":\"#E5ECF6\",\"polar\":{\"bgcolor\":\"#E5ECF6\",\"angularaxis\":{\"gridcolor\":\"white\",\"linecolor\":\"white\",\"ticks\":\"\"},\"radialaxis\":{\"gridcolor\":\"white\",\"linecolor\":\"white\",\"ticks\":\"\"}},\"ternary\":{\"bgcolor\":\"#E5ECF6\",\"aaxis\":{\"gridcolor\":\"white\",\"linecolor\":\"white\",\"ticks\":\"\"},\"baxis\":{\"gridcolor\":\"white\",\"linecolor\":\"white\",\"ticks\":\"\"},\"caxis\":{\"gridcolor\":\"white\",\"linecolor\":\"white\",\"ticks\":\"\"}},\"coloraxis\":{\"colorbar\":{\"outlinewidth\":0,\"ticks\":\"\"}},\"colorscale\":{\"sequential\":[[0.0,\"#0d0887\"],[0.1111111111111111,\"#46039f\"],[0.2222222222222222,\"#7201a8\"],[0.3333333333333333,\"#9c179e\"],[0.4444444444444444,\"#bd3786\"],[0.5555555555555556,\"#d8576b\"],[0.6666666666666666,\"#ed7953\"],[0.7777777777777778,\"#fb9f3a\"],[0.8888888888888888,\"#fdca26\"],[1.0,\"#f0f921\"]],\"sequentialminus\":[[0.0,\"#0d0887\"],[0.1111111111111111,\"#46039f\"],[0.2222222222222222,\"#7201a8\"],[0.3333333333333333,\"#9c179e\"],[0.4444444444444444,\"#bd3786\"],[0.5555555555555556,\"#d8576b\"],[0.6666666666666666,\"#ed7953\"],[0.7777777777777778,\"#fb9f3a\"],[0.8888888888888888,\"#fdca26\"],[1.0,\"#f0f921\"]],\"diverging\":[[0,\"#8e0152\"],[0.1,\"#c51b7d\"],[0.2,\"#de77ae\"],[0.3,\"#f1b6da\"],[0.4,\"#fde0ef\"],[0.5,\"#f7f7f7\"],[0.6,\"#e6f5d0\"],[0.7,\"#b8e186\"],[0.8,\"#7fbc41\"],[0.9,\"#4d9221\"],[1,\"#276419\"]]},\"xaxis\":{\"gridcolor\":\"white\",\"linecolor\":\"white\",\"ticks\":\"\",\"title\":{\"standoff\":15},\"zerolinecolor\":\"white\",\"automargin\":true,\"zerolinewidth\":2},\"yaxis\":{\"gridcolor\":\"white\",\"linecolor\":\"white\",\"ticks\":\"\",\"title\":{\"standoff\":15},\"zerolinecolor\":\"white\",\"automargin\":true,\"zerolinewidth\":2},\"scene\":{\"xaxis\":{\"backgroundcolor\":\"#E5ECF6\",\"gridcolor\":\"white\",\"linecolor\":\"white\",\"showbackground\":true,\"ticks\":\"\",\"zerolinecolor\":\"white\",\"gridwidth\":2},\"yaxis\":{\"backgroundcolor\":\"#E5ECF6\",\"gridcolor\":\"white\",\"linecolor\":\"white\",\"showbackground\":true,\"ticks\":\"\",\"zerolinecolor\":\"white\",\"gridwidth\":2},\"zaxis\":{\"backgroundcolor\":\"#E5ECF6\",\"gridcolor\":\"white\",\"linecolor\":\"white\",\"showbackground\":true,\"ticks\":\"\",\"zerolinecolor\":\"white\",\"gridwidth\":2}},\"shapedefaults\":{\"line\":{\"color\":\"#2a3f5f\"}},\"annotationdefaults\":{\"arrowcolor\":\"#2a3f5f\",\"arrowhead\":0,\"arrowwidth\":1},\"geo\":{\"bgcolor\":\"white\",\"landcolor\":\"#E5ECF6\",\"subunitcolor\":\"white\",\"showland\":true,\"showlakes\":true,\"lakecolor\":\"white\"},\"title\":{\"x\":0.05},\"mapbox\":{\"style\":\"light\"}}}},                        {\"staticPlot\": true, \"responsive\": true}                    ).then(function(){\n",
       "                            \n",
       "var gd = document.getElementById('95a5ad44-96de-4b8b-aa64-2aa7cbe027ed');\n",
       "var x = new MutationObserver(function (mutations, observer) {{\n",
       "        var display = window.getComputedStyle(gd).display;\n",
       "        if (!display || display === 'none') {{\n",
       "            console.log([gd, 'removed!']);\n",
       "            Plotly.purge(gd);\n",
       "            observer.disconnect();\n",
       "        }}\n",
       "}});\n",
       "\n",
       "// Listen for the removal of the full notebook cells\n",
       "var notebookContainer = gd.closest('#notebook-container');\n",
       "if (notebookContainer) {{\n",
       "    x.observe(notebookContainer, {childList: true});\n",
       "}}\n",
       "\n",
       "// Listen for the clearing of the current output cell\n",
       "var outputEl = gd.closest('.output');\n",
       "if (outputEl) {{\n",
       "    x.observe(outputEl, {childList: true});\n",
       "}}\n",
       "\n",
       "                        })                };                });            </script>        </div>"
      ]
     },
     "metadata": {},
     "output_type": "display_data"
    }
   ],
   "source": [
    "import time\n",
    "import json\n",
    "from random import randint\n",
    "from IPython.display import clear_output\n",
    "\n",
    "statuses = []\n",
    "refresh_time = 0.5  # Read statuses every 0.5 seconds\n",
    "\n",
    "for i in range(int(30 * (1 / refresh_time))):\n",
    "    # Wait and then clean the output\n",
    "    time.sleep(refresh_time)\n",
    "    clear_output(wait=True)\n",
    "\n",
    "    # Change input every 2 second\n",
    "    if (i * refresh_time) % 2 == 0:\n",
    "        l0_unit0.scalar_reading = randint(0, 1000) / 1000\n",
    "\n",
    "    # Read statused and store it\n",
    "    status = qrobot.qunits.redis_utils.redis_status()\n",
    "    statuses.append(status)\n",
    "\n",
    "    # Print output\n",
    "    print(json.dumps(status, indent=1, sort_keys=True))\n",
    "    print(int(i * refresh_time), \"/30 seconds\")\n",
    "    \n",
    "    # Plot graph\n",
    "    qbrain_graph = qrobot.graph(status)\n",
    "    qrobot.draw(qbrain_graph)"
   ]
  },
  {
   "cell_type": "markdown",
   "metadata": {},
   "source": [
    "Stop the processing loops:"
   ]
  },
  {
   "cell_type": "code",
   "execution_count": 15,
   "metadata": {
    "scrolled": true
   },
   "outputs": [
    {
     "name": "stdout",
     "output_type": "stream",
     "text": [
      "2022-12-04 13:02:17,400 — l0_unit_0-9ac03c — INFO — stop:83 — Stopping SensorialUnit\n",
      "2022-12-04 13:02:17,403 — l0_unit_0-9ac03c — INFO — stop:85 — Cleaning redis\n",
      "2022-12-04 13:02:17,410 — l1_unit0-74d145 — INFO — stop:83 — Stopping QUnit\n",
      "2022-12-04 13:02:17,412 — l1_unit0-74d145 — INFO — stop:85 — Cleaning redis\n",
      "2022-12-04 13:02:17,420 — l1_unit1-a89a3a — INFO — stop:83 — Stopping QUnit\n",
      "2022-12-04 13:02:17,422 — l1_unit1-a89a3a — INFO — stop:85 — Cleaning redis\n"
     ]
    }
   ],
   "source": [
    "l0_unit0.stop()\n",
    "l1_unit0.stop()\n",
    "l1_unit1.stop()"
   ]
  },
  {
   "cell_type": "markdown",
   "metadata": {},
   "source": [
    "Flush the redis to clean all traces (should not be necessary if the qUnits processing loops stopped correctly):"
   ]
  },
  {
   "cell_type": "code",
   "execution_count": 16,
   "metadata": {},
   "outputs": [
    {
     "data": {
      "text/plain": [
       "{}"
      ]
     },
     "execution_count": 16,
     "metadata": {},
     "output_type": "execute_result"
    }
   ],
   "source": [
    "qrobot.qunits.redis_utils.redis_status()"
   ]
  },
  {
   "cell_type": "code",
   "execution_count": 17,
   "metadata": {},
   "outputs": [
    {
     "name": "stdout",
     "output_type": "stream",
     "text": [
      "2022-12-04 13:02:17,455 — redis — INFO — flush_redis:81 — Flushing redis database\n"
     ]
    }
   ],
   "source": [
    "qrobot.qunits.redis_utils.flush_redis()"
   ]
  },
  {
   "cell_type": "markdown",
   "metadata": {},
   "source": [
    "## Visualize the results"
   ]
  },
  {
   "cell_type": "markdown",
   "metadata": {},
   "source": [
    "We can visualize the time evolution of such time period:"
   ]
  },
  {
   "cell_type": "code",
   "execution_count": 18,
   "metadata": {},
   "outputs": [
    {
     "data": {
      "image/png": "[encoded data removed]",
      "text/plain": [
       "<Figure size 1500x500 with 1 Axes>"
      ]
     },
     "metadata": {},
     "output_type": "display_data"
    }
   ],
   "source": [
    "import numpy as np\n",
    "import pandas as pd\n",
    "import matplotlib.pyplot as plt\n",
    "\n",
    "status_df = pd.DataFrame(statuses)\n",
    "units = [\n",
    "    l0_unit0.id + \" output\", \n",
    "    l1_unit0.id + \" output\", \n",
    "    l1_unit1.id + \" output\"\n",
    "]\n",
    "status_df = status_df[units]\n",
    "status_df = status_df.astype(np.float64)\n",
    "status_df.index = status_df.index * refresh_time\n",
    "\n",
    "fig, ax = plt.subplots(1, 1, figsize=(15, 5))\n",
    "# Plot time evolution\n",
    "styles = [\"g\", \"y\", \"b\"]\n",
    "status_df[units].plot(style=styles, ax=ax)\n",
    "# Plot queries as dashed lines\n",
    "ax.hlines(\n",
    "    y=l1_unit0.query, xmin=0, xmax=30, linewidth=1, color=\"y\", linestyles=\"dashed\"\n",
    ")\n",
    "ax.hlines(\n",
    "    y=l1_unit1.query, xmin=0, xmax=30, linewidth=1, color=\"b\", linestyles=\"dashed\"\n",
    ")\n",
    "plt.show()"
   ]
  },
  {
   "cell_type": "markdown",
   "metadata": {},
   "source": [
    "Focusing on `l1_unit0`:"
   ]
  },
  {
   "cell_type": "code",
   "execution_count": 19,
   "metadata": {},
   "outputs": [
    {
     "name": "stdout",
     "output_type": "stream",
     "text": [
      "QUnit \"l1_unit0-74d145\"\n",
      "     name:\tl1_unit0\n",
      "     id:\tl1_unit0-74d145\n",
      "     model:\t[model: AngularModel, n: 1, tau: 10]\n",
      "     burst:\t<class 'qrobot.bursts.oneburst.OneBurst'>\n",
      "     query:\t[0.0]\n",
      "     Ts:\t0.3\n"
     ]
    },
    {
     "data": {
      "image/png": "[encoded data removed]",
      "text/plain": [
       "<Figure size 1500x500 with 1 Axes>"
      ]
     },
     "metadata": {},
     "output_type": "display_data"
    }
   ],
   "source": [
    "print(l1_unit0)\n",
    "fig, ax = plt.subplots(1, 1, figsize=(15, 5))\n",
    "# Plot time evolution\n",
    "units = [l0_unit0.id + \" output\", l1_unit0.id + \" output\"]\n",
    "styles = [\"g\", \"b\"]\n",
    "status_df[units].plot(style=styles, ax=ax)\n",
    "# Plot time windows\n",
    "t_start = status_df[l1_unit0.id + \" output\"].dropna().index[0]\n",
    "t_step = l1_unit0.model.tau * l1_unit0.Ts\n",
    "t_windows = np.arange(t_start, 31, t_step)\n",
    "plt.vlines(x=t_windows, ymin=0, ymax=1, colors=\"gray\", ls=\"dotted\", lw=1)\n",
    "# Plot query as dashed line\n",
    "ax.hlines(y=l1_unit0.query, xmin=t_start, xmax=30, linewidth=1, color=\"b\", ls=\"dashed\")\n",
    "plt.show()"
   ]
  },
  {
   "cell_type": "markdown",
   "metadata": {},
   "source": [
    "Focusing on `l1_unit1`:"
   ]
  },
  {
   "cell_type": "code",
   "execution_count": 20,
   "metadata": {},
   "outputs": [
    {
     "name": "stdout",
     "output_type": "stream",
     "text": [
      "QUnit \"l1_unit1-a89a3a\"\n",
      "     name:\tl1_unit1\n",
      "     id:\tl1_unit1-a89a3a\n",
      "     model:\t[model: AngularModel, n: 1, tau: 25]\n",
      "     burst:\t<class 'qrobot.bursts.zeroburst.ZeroBurst'>\n",
      "     query:\t[0.8]\n",
      "     Ts:\t0.2\n"
     ]
    },
    {
     "data": {
      "image/png": "[encoded data removed]",
      "text/plain": [
       "<Figure size 1500x500 with 1 Axes>"
      ]
     },
     "metadata": {},
     "output_type": "display_data"
    }
   ],
   "source": [
    "print(l1_unit1)\n",
    "fig, ax = plt.subplots(1, 1, figsize=(15, 5))\n",
    "# Plot time evolution\n",
    "units = [l0_unit0.id + \" output\", l1_unit1.id + \" output\"]\n",
    "styles = [\"g\", \"b\"]\n",
    "status_df[units].plot(style=styles, ax=ax)\n",
    "# Plot time windows\n",
    "t_start = status_df[l1_unit1.id + \" output\"].dropna().index[0]\n",
    "t_step = l1_unit1.model.tau * l1_unit1.Ts\n",
    "t_windows = np.arange(t_start, 31, t_step)\n",
    "plt.vlines(x=t_windows, ymin=0, ymax=1, colors=\"gray\", ls=\"dotted\", lw=1)\n",
    "# Plot query as dashed line\n",
    "ax.hlines(y=l1_unit1.query, xmin=t_start, xmax=30, linewidth=1, color=\"b\", ls=\"dashed\")\n",
    "plt.show()"
   ]
  },
  {
   "cell_type": "markdown",
   "metadata": {},
   "source": [
    "## Detailed logs"
   ]
  },
  {
   "cell_type": "markdown",
   "metadata": {},
   "source": [
    "Print the last 30 lines of the log:"
   ]
  },
  {
   "cell_type": "code",
   "execution_count": 21,
   "metadata": {},
   "outputs": [
    {
     "name": "stdout",
     "output_type": "stream",
     "text": [
      "2022-12-04 13:02:16,882 — l0_unit_0-9ac03c — DEBUG — _unit_task:79 — scalar_reading=0.438\n",
      "2022-12-04 13:02:16,882 — l0_unit_0-9ac03c — DEBUG — _unit_task:80 — Writing input on redis\n",
      "2022-12-04 13:02:16,984 — l0_unit_0-9ac03c — DEBUG — _unit_task:79 — scalar_reading=0.438\n",
      "2022-12-04 13:02:16,985 — l0_unit_0-9ac03c — DEBUG — _unit_task:80 — Writing input on redis\n",
      "2022-12-04 13:02:16,997 — l1_unit1-a89a3a — DEBUG — _unit_task:186 — Temporal window event 4/25\n",
      "2022-12-04 13:02:17,001 — l1_unit1-a89a3a — DEBUG — _unit_task:191 — input_vector=[0.438]\n",
      "2022-12-04 13:02:17,054 — l1_unit0-74d145 — DEBUG — _unit_task:186 — Temporal window event 4/10\n",
      "2022-12-04 13:02:17,059 — l1_unit0-74d145 — DEBUG — _unit_task:191 — input_vector=[0.438]\n",
      "2022-12-04 13:02:17,090 — l0_unit_0-9ac03c — DEBUG — _unit_task:79 — scalar_reading=0.438\n",
      "2022-12-04 13:02:17,090 — l0_unit_0-9ac03c — DEBUG — _unit_task:80 — Writing input on redis\n",
      "2022-12-04 13:02:17,194 — l0_unit_0-9ac03c — DEBUG — _unit_task:79 — scalar_reading=0.438\n",
      "2022-12-04 13:02:17,194 — l0_unit_0-9ac03c — DEBUG — _unit_task:80 — Writing input on redis\n",
      "2022-12-04 13:02:17,205 — l1_unit1-a89a3a — DEBUG — _unit_task:186 — Temporal window event 5/25\n",
      "2022-12-04 13:02:17,210 — l1_unit1-a89a3a — DEBUG — _unit_task:191 — input_vector=[0.438]\n",
      "2022-12-04 13:02:17,300 — l0_unit_0-9ac03c — DEBUG — _unit_task:79 — scalar_reading=0.438\n",
      "2022-12-04 13:02:17,301 — l0_unit_0-9ac03c — DEBUG — _unit_task:80 — Writing input on redis\n",
      "2022-12-04 13:02:17,364 — l1_unit0-74d145 — DEBUG — _unit_task:186 — Temporal window event 5/10\n",
      "2022-12-04 13:02:17,368 — l1_unit0-74d145 — DEBUG — _unit_task:191 — input_vector=[0.438]\n",
      "2022-12-04 13:02:17,400 — l0_unit_0-9ac03c — INFO — stop:83 — Stopping SensorialUnit\n",
      "2022-12-04 13:02:17,403 — l0_unit_0-9ac03c — INFO — stop:85 — Cleaning redis\n",
      "2022-12-04 13:02:17,410 — l1_unit0-74d145 — INFO — stop:83 — Stopping QUnit\n",
      "2022-12-04 13:02:17,413 — l1_unit1-a89a3a — DEBUG — _unit_task:186 — Temporal window event 6/25\n",
      "2022-12-04 13:02:17,412 — l1_unit0-74d145 — INFO — stop:85 — Cleaning redis\n",
      "2022-12-04 13:02:17,415 — l1_unit1-a89a3a — INFO — input_vector:153 — Unable to read l0_unit_0-9ac03c input\n",
      "2022-12-04 13:02:17,419 — l1_unit1-a89a3a — DEBUG — _unit_task:191 — input_vector=[0.438]\n",
      "2022-12-04 13:02:17,420 — l1_unit1-a89a3a — INFO — stop:83 — Stopping QUnit\n",
      "2022-12-04 13:02:17,422 — l1_unit1-a89a3a — INFO — stop:85 — Cleaning redis\n",
      "2022-12-04 13:02:17,455 — redis — INFO — flush_redis:81 — Flushing redis database\n",
      "2022-12-04 13:02:17,470 — redis — DEBUG — flush_redis:82 — Previous redis state: {}\n",
      "2022-12-04 13:02:17,473 — redis — DEBUG — flush_redis:85 — Current redis state: {}\n"
     ]
    }
   ],
   "source": [
    "def print_log(filter_by: \"list[str]\" = None, n_lines: int = 30):\n",
    "    log_file = qrobot._logger.log_file()\n",
    "    i = 0\n",
    "    with open(log_file) as log:\n",
    "        for line in log.readlines()[-n_lines:]:\n",
    "            if filter_by is None or all(x in line for x in filter_by):\n",
    "                print(line, end=\"\")\n",
    "                i += 1\n",
    "            if i >= n_lines:\n",
    "                break\n",
    "\n",
    "\n",
    "print_log()"
   ]
  },
  {
   "cell_type": "markdown",
   "metadata": {},
   "source": [
    "Print the last lines of the log only for `l1_unit1`:"
   ]
  },
  {
   "cell_type": "code",
   "execution_count": 22,
   "metadata": {},
   "outputs": [
    {
     "name": "stdout",
     "output_type": "stream",
     "text": [
      "2022-12-04 13:02:12,609 — l1_unit1-a89a3a — DEBUG — _unit_task:186 — Temporal window event 8/25\n",
      "2022-12-04 13:02:12,612 — l1_unit1-a89a3a — DEBUG — _unit_task:191 — input_vector=[0.279]\n",
      "2022-12-04 13:02:12,815 — l1_unit1-a89a3a — DEBUG — _unit_task:186 — Temporal window event 9/25\n",
      "2022-12-04 13:02:12,818 — l1_unit1-a89a3a — DEBUG — _unit_task:191 — input_vector=[0.279]\n",
      "2022-12-04 13:02:13,021 — l1_unit1-a89a3a — DEBUG — _unit_task:186 — Temporal window event 10/25\n",
      "2022-12-04 13:02:13,027 — l1_unit1-a89a3a — DEBUG — _unit_task:191 — input_vector=[0.279]\n",
      "2022-12-04 13:02:13,231 — l1_unit1-a89a3a — DEBUG — _unit_task:186 — Temporal window event 11/25\n",
      "2022-12-04 13:02:13,236 — l1_unit1-a89a3a — DEBUG — _unit_task:191 — input_vector=[0.279]\n",
      "2022-12-04 13:02:13,440 — l1_unit1-a89a3a — DEBUG — _unit_task:186 — Temporal window event 12/25\n",
      "2022-12-04 13:02:13,444 — l1_unit1-a89a3a — DEBUG — _unit_task:191 — input_vector=[0.279]\n",
      "2022-12-04 13:02:13,647 — l1_unit1-a89a3a — DEBUG — _unit_task:186 — Temporal window event 13/25\n",
      "2022-12-04 13:02:13,648 — l1_unit1-a89a3a — DEBUG — _unit_task:191 — input_vector=[0.842]\n",
      "2022-12-04 13:02:13,850 — l1_unit1-a89a3a — DEBUG — _unit_task:186 — Temporal window event 14/25\n",
      "2022-12-04 13:02:13,855 — l1_unit1-a89a3a — DEBUG — _unit_task:191 — input_vector=[0.842]\n",
      "2022-12-04 13:02:14,059 — l1_unit1-a89a3a — DEBUG — _unit_task:186 — Temporal window event 15/25\n",
      "2022-12-04 13:02:14,063 — l1_unit1-a89a3a — DEBUG — _unit_task:191 — input_vector=[0.842]\n",
      "2022-12-04 13:02:14,267 — l1_unit1-a89a3a — DEBUG — _unit_task:186 — Temporal window event 16/25\n",
      "2022-12-04 13:02:14,271 — l1_unit1-a89a3a — DEBUG — _unit_task:191 — input_vector=[0.842]\n",
      "2022-12-04 13:02:14,475 — l1_unit1-a89a3a — DEBUG — _unit_task:186 — Temporal window event 17/25\n",
      "2022-12-04 13:02:14,479 — l1_unit1-a89a3a — DEBUG — _unit_task:191 — input_vector=[0.842]\n",
      "2022-12-04 13:02:14,683 — l1_unit1-a89a3a — DEBUG — _unit_task:186 — Temporal window event 18/25\n",
      "2022-12-04 13:02:14,688 — l1_unit1-a89a3a — DEBUG — _unit_task:191 — input_vector=[0.842]\n",
      "2022-12-04 13:02:14,892 — l1_unit1-a89a3a — DEBUG — _unit_task:186 — Temporal window event 19/25\n",
      "2022-12-04 13:02:14,897 — l1_unit1-a89a3a — DEBUG — _unit_task:191 — input_vector=[0.842]\n",
      "2022-12-04 13:02:15,100 — l1_unit1-a89a3a — DEBUG — _unit_task:186 — Temporal window event 20/25\n",
      "2022-12-04 13:02:15,101 — l1_unit1-a89a3a — DEBUG — _unit_task:191 — input_vector=[0.842]\n",
      "2022-12-04 13:02:15,302 — l1_unit1-a89a3a — DEBUG — _unit_task:186 — Temporal window event 21/25\n",
      "2022-12-04 13:02:15,303 — l1_unit1-a89a3a — DEBUG — _unit_task:191 — input_vector=[0.842]\n",
      "2022-12-04 13:02:15,505 — l1_unit1-a89a3a — DEBUG — _unit_task:186 — Temporal window event 22/25\n",
      "2022-12-04 13:02:15,510 — l1_unit1-a89a3a — DEBUG — _unit_task:191 — input_vector=[0.842]\n",
      "2022-12-04 13:02:15,714 — l1_unit1-a89a3a — DEBUG — _unit_task:186 — Temporal window event 23/25\n",
      "2022-12-04 13:02:15,718 — l1_unit1-a89a3a — DEBUG — _unit_task:191 — input_vector=[0.842]\n",
      "2022-12-04 13:02:15,922 — l1_unit1-a89a3a — DEBUG — _unit_task:186 — Temporal window event 24/25\n",
      "2022-12-04 13:02:15,927 — l1_unit1-a89a3a — DEBUG — _unit_task:191 — input_vector=[0.438]\n",
      "2022-12-04 13:02:16,132 — l1_unit1-a89a3a — DEBUG — _unit_task:186 — Temporal window event 25/25\n",
      "2022-12-04 13:02:16,136 — l1_unit1-a89a3a — DEBUG — _unit_task:191 — input_vector=[0.438]\n",
      "2022-12-04 13:02:16,139 — l1_unit1-a89a3a — DEBUG — _unit_task:200 — Querying for state [0.8]\n",
      "2022-12-04 13:02:16,172 — l1_unit1-a89a3a — DEBUG — _unit_task:204 — Output state = 0\n",
      "2022-12-04 13:02:16,172 — l1_unit1-a89a3a — DEBUG — _unit_task:206 — Opening a connection to redis...\n",
      "2022-12-04 13:02:16,173 — l1_unit1-a89a3a — DEBUG — _unit_task:208 — Redis connected: Redis<ConnectionPool<Connection<host=localhost,port=6379,db=0>>>\n",
      "2022-12-04 13:02:16,176 — l1_unit1-a89a3a — DEBUG — _unit_task:219 — Initializing a new temporal window\n",
      "2022-12-04 13:02:16,377 — l1_unit1-a89a3a — DEBUG — _unit_task:186 — Temporal window event 1/25\n",
      "2022-12-04 13:02:16,378 — l1_unit1-a89a3a — DEBUG — _unit_task:191 — input_vector=[0.438]\n",
      "2022-12-04 13:02:16,580 — l1_unit1-a89a3a — DEBUG — _unit_task:186 — Temporal window event 2/25\n",
      "2022-12-04 13:02:16,585 — l1_unit1-a89a3a — DEBUG — _unit_task:191 — input_vector=[0.438]\n",
      "2022-12-04 13:02:16,788 — l1_unit1-a89a3a — DEBUG — _unit_task:186 — Temporal window event 3/25\n",
      "2022-12-04 13:02:16,793 — l1_unit1-a89a3a — DEBUG — _unit_task:191 — input_vector=[0.438]\n",
      "2022-12-04 13:02:16,997 — l1_unit1-a89a3a — DEBUG — _unit_task:186 — Temporal window event 4/25\n",
      "2022-12-04 13:02:17,001 — l1_unit1-a89a3a — DEBUG — _unit_task:191 — input_vector=[0.438]\n",
      "2022-12-04 13:02:17,205 — l1_unit1-a89a3a — DEBUG — _unit_task:186 — Temporal window event 5/25\n",
      "2022-12-04 13:02:17,210 — l1_unit1-a89a3a — DEBUG — _unit_task:191 — input_vector=[0.438]\n",
      "2022-12-04 13:02:17,413 — l1_unit1-a89a3a — DEBUG — _unit_task:186 — Temporal window event 6/25\n",
      "2022-12-04 13:02:17,415 — l1_unit1-a89a3a — INFO — input_vector:153 — Unable to read l0_unit_0-9ac03c input\n",
      "2022-12-04 13:02:17,419 — l1_unit1-a89a3a — DEBUG — _unit_task:191 — input_vector=[0.438]\n",
      "2022-12-04 13:02:17,420 — l1_unit1-a89a3a — INFO — stop:83 — Stopping QUnit\n",
      "2022-12-04 13:02:17,422 — l1_unit1-a89a3a — INFO — stop:85 — Cleaning redis\n"
     ]
    }
   ],
   "source": [
    "print_log([\"l1_unit1\"], 200)"
   ]
  },
  {
   "cell_type": "code",
   "execution_count": 24,
   "metadata": {},
   "outputs": [
    {
     "name": "stdout",
     "output_type": "stream",
     "text": [
      "Time window time: 5.0 seconds\n",
      "2022-12-04 13:01:55,265 — l1_unit1-a89a3a — DEBUG — _unit_task:204 — Output state = 0\n",
      "2022-12-04 13:02:00,495 — l1_unit1-a89a3a — DEBUG — _unit_task:204 — Output state = 1\n",
      "2022-12-04 13:02:05,721 — l1_unit1-a89a3a — DEBUG — _unit_task:204 — Output state = 0\n",
      "2022-12-04 13:02:10,947 — l1_unit1-a89a3a — DEBUG — _unit_task:204 — Output state = 0\n",
      "2022-12-04 13:02:16,172 — l1_unit1-a89a3a — DEBUG — _unit_task:204 — Output state = 0\n"
     ]
    }
   ],
   "source": [
    "print(\"Time window time:\", l1_unit1.Ts * l1_unit1.model.tau, \"seconds\")\n",
    "print_log([\"l1_unit1\", \"Output state = \"], 1000)"
   ]
  }
 ],
 "metadata": {
  "kernelspec": {
   "display_name": "Python 3 (ipykernel)",
   "language": "python",
   "name": "python3"
  },
  "language_info": {
   "codemirror_mode": {
    "name": "ipython",
    "version": 3
   },
   "file_extension": ".py",
   "mimetype": "text/x-python",
   "name": "python",
   "nbconvert_exporter": "python",
   "pygments_lexer": "ipython3",
   "version": "3.8.10"
  }
 },
 "nbformat": 4,
 "nbformat_minor": 4
}
