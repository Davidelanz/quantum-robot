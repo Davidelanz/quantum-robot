{
 "cells": [
  {
   "cell_type": "markdown",
   "metadata": {},
   "source": [
    "# Tutorial: how to use QUnits"
   ]
  },
  {
   "cell_type": "code",
   "execution_count": 1,
   "metadata": {},
   "outputs": [],
   "source": [
    "import qrobot\n",
    "import time"
   ]
  },
  {
   "cell_type": "markdown",
   "metadata": {},
   "source": [
    "First, define a model and a desired burst:"
   ]
  },
  {
   "cell_type": "code",
   "execution_count": 2,
   "metadata": {},
   "outputs": [
    {
     "data": {
      "text/plain": [
       "[model: AngularModel, n: 2, tau: 10]"
      ]
     },
     "execution_count": 2,
     "metadata": {},
     "output_type": "execute_result"
    }
   ],
   "source": [
    "qrobot.models.AngularModel(n=2, tau=10)"
   ]
  },
  {
   "cell_type": "code",
   "execution_count": 3,
   "metadata": {},
   "outputs": [
    {
     "data": {
      "text/plain": [
       "<qrobot.bursts.zeroburst.ZeroBurst at 0x7f40c848a100>"
      ]
     },
     "execution_count": 3,
     "metadata": {},
     "output_type": "execute_result"
    }
   ],
   "source": [
    "qrobot.bursts.ZeroBurst()"
   ]
  },
  {
   "cell_type": "markdown",
   "metadata": {},
   "source": [
    "You can use objects like those to create a basic qBrain:\n",
    "![](./tutorial_qunits_basicnetwork.png)"
   ]
  },
  {
   "cell_type": "code",
   "execution_count": 4,
   "metadata": {},
   "outputs": [],
   "source": [
    "from qrobot.models import AngularModel\n",
    "from qrobot.bursts import ZeroBurst\n",
    "\n",
    "# Layer 0\n",
    "l0_unit0 = qrobot.qunits.QUnit(\n",
    "    name=\"lo_unit0\",\n",
    "    model=AngularModel(n=2, tau=10),\n",
    "    burst=ZeroBurst(),\n",
    "    Ts=0.1,\n",
    "    query=[0.1, 0.5],  # Query target initialized\n",
    "    # No input\n",
    ")\n",
    "\n",
    "# Layer 1\n",
    "l1_unit0 = qrobot.qunits.QUnit(\n",
    "    name=\"l1_unit0\",\n",
    "    model=AngularModel(n=1, tau=3),\n",
    "    burst=ZeroBurst(),\n",
    "    Ts=1,\n",
    "    in_qunits={0: l0_unit0.id},  # Will receive Input from l0_unit0, dim 0\n",
    ")\n",
    "\n",
    "l1_unit1 = qrobot.qunits.QUnit(\n",
    "    name=\"l1_unit1\",\n",
    "    model=AngularModel(n=1, tau=5),\n",
    "    burst=ZeroBurst(),\n",
    "    Ts=1,\n",
    "    in_qunits={0: l0_unit0.id},  # Will receive input from l0_unit0, dim 1\n",
    ")"
   ]
  },
  {
   "cell_type": "code",
   "execution_count": 5,
   "metadata": {},
   "outputs": [
    {
     "data": {
      "text/plain": [
       "QUnit \"lo_unit0-959646\"\n",
       "     name:\tlo_unit0\n",
       "     id:\tlo_unit0-959646\n",
       "     model:\t[model: AngularModel, n: 2, tau: 10]\n",
       "     burst:\t<class 'qrobot.bursts.zeroburst.ZeroBurst'>\n",
       "     query:\t[0.1, 0.5]\n",
       "     Ts:\t0.1"
      ]
     },
     "execution_count": 5,
     "metadata": {},
     "output_type": "execute_result"
    }
   ],
   "source": [
    "l0_unit0"
   ]
  },
  {
   "cell_type": "code",
   "execution_count": 6,
   "metadata": {},
   "outputs": [
    {
     "data": {
      "text/plain": [
       "QUnit \"l1_unit0-ad5fa8\"\n",
       "     name:\tl1_unit0\n",
       "     id:\tl1_unit0-ad5fa8\n",
       "     model:\t[model: AngularModel, n: 1, tau: 3]\n",
       "     burst:\t<class 'qrobot.bursts.zeroburst.ZeroBurst'>\n",
       "     query:\t[0.0]\n",
       "     Ts:\t1.0"
      ]
     },
     "execution_count": 6,
     "metadata": {},
     "output_type": "execute_result"
    }
   ],
   "source": [
    "l1_unit0"
   ]
  },
  {
   "cell_type": "code",
   "execution_count": 7,
   "metadata": {},
   "outputs": [
    {
     "data": {
      "text/plain": [
       "QUnit \"l1_unit1-ab38b3\"\n",
       "     name:\tl1_unit1\n",
       "     id:\tl1_unit1-ab38b3\n",
       "     model:\t[model: AngularModel, n: 1, tau: 5]\n",
       "     burst:\t<class 'qrobot.bursts.zeroburst.ZeroBurst'>\n",
       "     query:\t[0.0]\n",
       "     Ts:\t1.0"
      ]
     },
     "execution_count": 7,
     "metadata": {},
     "output_type": "execute_result"
    }
   ],
   "source": [
    "l1_unit1"
   ]
  },
  {
   "cell_type": "code",
   "execution_count": 8,
   "metadata": {},
   "outputs": [
    {
     "name": "stdout",
     "output_type": "stream",
     "text": [
      "{0: None, 1: None}\n",
      "{0: 'lo_unit0-959646'}\n",
      "{0: 'lo_unit0-959646'}\n"
     ]
    }
   ],
   "source": [
    "print(l0_unit0.in_qunits)\n",
    "print(l1_unit0.in_qunits)\n",
    "print(l1_unit1.in_qunits)"
   ]
  },
  {
   "cell_type": "code",
   "execution_count": 9,
   "metadata": {},
   "outputs": [
    {
     "name": "stdout",
     "output_type": "stream",
     "text": [
      "2021-01-17 22:19:32,088 — lo_unit0-959646 — INFO — start:237 — Starting qUnit\n",
      "2021-01-17 22:19:32,100 — l1_unit0-ad5fa8 — INFO — start:237 — Starting qUnit\n",
      "2021-01-17 22:19:32,106 — l1_unit0-ad5fa8 — INFO — input_vector:186 — Unable to read lo_unit0-959646 input\n",
      "2021-01-17 22:19:32,106 — l1_unit1-ab38b3 — INFO — start:237 — Starting qUnit\n",
      "2021-01-17 22:19:32,114 — l1_unit1-ab38b3 — INFO — input_vector:186 — Unable to read lo_unit0-959646 input\n",
      "2021-01-17 22:19:33,112 — l1_unit0-ad5fa8 — INFO — input_vector:186 — Unable to read lo_unit0-959646 input\n",
      "2021-01-17 22:19:33,121 — l1_unit1-ab38b3 — INFO — input_vector:186 — Unable to read lo_unit0-959646 input\n"
     ]
    }
   ],
   "source": [
    "l0_unit0.start()\n",
    "l1_unit0.start()\n",
    "l1_unit1.start()"
   ]
  },
  {
   "cell_type": "code",
   "execution_count": 10,
   "metadata": {},
   "outputs": [
    {
     "name": "stdout",
     "output_type": "stream",
     "text": [
      "{\n",
      " \"lo_unit0-959646 state\": \"10\",\n",
      " \"l1_unit0-ad5fa8\": \"0.0\",\n",
      " \"lo_unit0-959646\": \"0.5\",\n",
      " \"l1_unit1-ab38b3 state\": \"1\",\n",
      " \"l1_unit1-ab38b3\": \"0.0\",\n",
      " \"l1_unit0-ad5fa8 state\": \"1\"\n",
      "}\n"
     ]
    }
   ],
   "source": [
    "import time\n",
    "import json\n",
    "from IPython.display import clear_output\n",
    "\n",
    "for _ in range(30):\n",
    "    clear_output(wait=True)\n",
    "    status = qrobot.qunits.qunit.redis_status()\n",
    "    print(json.dumps(status, indent=1))  # prettyprint status dictionary\n",
    "    time.sleep(1)"
   ]
  },
  {
   "cell_type": "code",
   "execution_count": 11,
   "metadata": {},
   "outputs": [
    {
     "name": "stdout",
     "output_type": "stream",
     "text": [
      "2021-01-17 22:20:02,324 — lo_unit0-959646 — INFO — stop:245 — Stopping qUnit\n",
      "2021-01-17 22:20:02,327 — l1_unit0-ad5fa8 — INFO — stop:245 — Stopping qUnit\n",
      "2021-01-17 22:20:02,330 — l1_unit1-ab38b3 — INFO — stop:245 — Stopping qUnit\n"
     ]
    }
   ],
   "source": [
    "l0_unit0.stop()\n",
    "l1_unit0.stop()\n",
    "l1_unit1.stop()"
   ]
  },
  {
   "cell_type": "code",
   "execution_count": 12,
   "metadata": {},
   "outputs": [
    {
     "data": {
      "text/plain": [
       "{}"
      ]
     },
     "execution_count": 12,
     "metadata": {},
     "output_type": "execute_result"
    }
   ],
   "source": [
    "qrobot.qunits.qunit.redis_status()"
   ]
  },
  {
   "cell_type": "code",
   "execution_count": 13,
   "metadata": {},
   "outputs": [],
   "source": [
    "qrobot.qunits.qunit.flush_redis()"
   ]
  },
  {
   "cell_type": "code",
   "execution_count": null,
   "metadata": {},
   "outputs": [],
   "source": []
  }
 ],
 "metadata": {
  "kernelspec": {
   "display_name": "Python 3",
   "language": "python",
   "name": "python3"
  },
  "language_info": {
   "codemirror_mode": {
    "name": "ipython",
    "version": 3
   },
   "file_extension": ".py",
   "mimetype": "text/x-python",
   "name": "python",
   "nbconvert_exporter": "python",
   "pygments_lexer": "ipython3",
   "version": "3.8.5"
  }
 },
 "nbformat": 4,
 "nbformat_minor": 4
}
