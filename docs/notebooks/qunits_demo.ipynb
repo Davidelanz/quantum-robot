{
 "cells": [
  {
   "cell_type": "markdown",
   "metadata": {},
   "source": [
    "# qUnits Demo"
   ]
  },
  {
   "cell_type": "code",
   "execution_count": 1,
   "metadata": {},
   "outputs": [],
   "source": [
    "import qrobot\n",
    "import time"
   ]
  },
  {
   "cell_type": "markdown",
   "metadata": {},
   "source": [
    "First, define a model and a desired burst:"
   ]
  },
  {
   "cell_type": "code",
   "execution_count": 2,
   "metadata": {},
   "outputs": [
    {
     "data": {
      "text/plain": [
       "[model: AngularModel, n: 2, tau: 10]"
      ]
     },
     "execution_count": 2,
     "metadata": {},
     "output_type": "execute_result"
    }
   ],
   "source": [
    "qrobot.models.AngularModel(n=2, tau=10)"
   ]
  },
  {
   "cell_type": "code",
   "execution_count": 3,
   "metadata": {},
   "outputs": [
    {
     "data": {
      "text/plain": [
       "<qrobot.bursts.zeroburst.ZeroBurst at 0x7fa712732430>"
      ]
     },
     "execution_count": 3,
     "metadata": {},
     "output_type": "execute_result"
    }
   ],
   "source": [
    "qrobot.bursts.ZeroBurst()"
   ]
  },
  {
   "cell_type": "markdown",
   "metadata": {},
   "source": [
    "You can use objects like those to create a basic qBrain:\n",
    "\n",
    "<img width=200 src=\"./tutorial_qunits_basicnetwork.png\"/>"
   ]
  },
  {
   "cell_type": "code",
   "execution_count": 4,
   "metadata": {},
   "outputs": [],
   "source": [
    "from qrobot.models import AngularModel\n",
    "from qrobot.bursts import ZeroBurst\n",
    "\n",
    "# Layer 0\n",
    "l0_unit0 = qrobot.qunits.QUnit(\n",
    "    name=\"l0_unit0\",\n",
    "    model=AngularModel(n=2, tau=10),\n",
    "    burst=ZeroBurst(),\n",
    "    Ts=0.1,\n",
    "    query=[0.1, 0.5],  # Query target initialized\n",
    "    # No input\n",
    ")\n",
    "\n",
    "# Layer 1\n",
    "l1_unit0 = qrobot.qunits.QUnit(\n",
    "    name=\"l1_unit0\",\n",
    "    model=AngularModel(n=1, tau=3),\n",
    "    burst=ZeroBurst(),\n",
    "    Ts=1,\n",
    "    in_qunits={0: l0_unit0.id},  # Will receive Input from l0_unit0, dim 0\n",
    ")\n",
    "\n",
    "l1_unit1 = qrobot.qunits.QUnit(\n",
    "    name=\"l1_unit1\",\n",
    "    model=AngularModel(n=1, tau=5),\n",
    "    burst=ZeroBurst(),\n",
    "    Ts=1,\n",
    "    in_qunits={0: l0_unit0.id},  # Will receive input from l0_unit0, dim 1\n",
    ")"
   ]
  },
  {
   "cell_type": "code",
   "execution_count": 5,
   "metadata": {},
   "outputs": [
    {
     "data": {
      "text/plain": [
       "QUnit \"l0_unit0-6c6eb7\"\n",
       "     name:\tl0_unit0\n",
       "     id:\tl0_unit0-6c6eb7\n",
       "     model:\t[model: AngularModel, n: 2, tau: 10]\n",
       "     burst:\t<class 'qrobot.bursts.zeroburst.ZeroBurst'>\n",
       "     query:\t[0.1, 0.5]\n",
       "     Ts:\t0.1"
      ]
     },
     "execution_count": 5,
     "metadata": {},
     "output_type": "execute_result"
    }
   ],
   "source": [
    "l0_unit0"
   ]
  },
  {
   "cell_type": "code",
   "execution_count": 6,
   "metadata": {},
   "outputs": [
    {
     "data": {
      "text/plain": [
       "QUnit \"l1_unit0-dd3ade\"\n",
       "     name:\tl1_unit0\n",
       "     id:\tl1_unit0-dd3ade\n",
       "     model:\t[model: AngularModel, n: 1, tau: 3]\n",
       "     burst:\t<class 'qrobot.bursts.zeroburst.ZeroBurst'>\n",
       "     query:\t[0.0]\n",
       "     Ts:\t1.0"
      ]
     },
     "execution_count": 6,
     "metadata": {},
     "output_type": "execute_result"
    }
   ],
   "source": [
    "l1_unit0"
   ]
  },
  {
   "cell_type": "code",
   "execution_count": 7,
   "metadata": {},
   "outputs": [
    {
     "data": {
      "text/plain": [
       "QUnit \"l1_unit1-e220ed\"\n",
       "     name:\tl1_unit1\n",
       "     id:\tl1_unit1-e220ed\n",
       "     model:\t[model: AngularModel, n: 1, tau: 5]\n",
       "     burst:\t<class 'qrobot.bursts.zeroburst.ZeroBurst'>\n",
       "     query:\t[0.0]\n",
       "     Ts:\t1.0"
      ]
     },
     "execution_count": 7,
     "metadata": {},
     "output_type": "execute_result"
    }
   ],
   "source": [
    "l1_unit1"
   ]
  },
  {
   "cell_type": "markdown",
   "metadata": {},
   "source": [
    "The input units for each qUnit are:"
   ]
  },
  {
   "cell_type": "code",
   "execution_count": 8,
   "metadata": {},
   "outputs": [
    {
     "name": "stdout",
     "output_type": "stream",
     "text": [
      "{0: None, 1: None}\n",
      "{0: 'l0_unit0-6c6eb7'}\n",
      "{0: 'l0_unit0-6c6eb7'}\n"
     ]
    }
   ],
   "source": [
    "print(l0_unit0.in_qunits)\n",
    "print(l1_unit0.in_qunits)\n",
    "print(l1_unit1.in_qunits)"
   ]
  },
  {
   "cell_type": "markdown",
   "metadata": {},
   "source": [
    "Add an external input for `l0_unit0`:"
   ]
  },
  {
   "cell_type": "code",
   "execution_count": 9,
   "metadata": {},
   "outputs": [
    {
     "data": {
      "text/plain": [
       "[0.0, 0.0]"
      ]
     },
     "execution_count": 9,
     "metadata": {},
     "output_type": "execute_result"
    }
   ],
   "source": [
    "l0_unit0.input_vector"
   ]
  },
  {
   "cell_type": "code",
   "execution_count": 10,
   "metadata": {},
   "outputs": [
    {
     "name": "stdout",
     "output_type": "stream",
     "text": [
      "2022-09-11 23:03:22,166 — l0_unit0-6c6eb7 — WARNING — input_vector:186 — The qunit.input_vector setter will be deprecated with the introduction of sensorial interfaces, since it should not be possible to hard-write qUnits' inputs from the python code directly.\n"
     ]
    }
   ],
   "source": [
    "l0_unit0.input_vector = [0.5, 0.7]"
   ]
  },
  {
   "cell_type": "code",
   "execution_count": 11,
   "metadata": {},
   "outputs": [
    {
     "data": {
      "text/plain": [
       "[0.5, 0.7]"
      ]
     },
     "execution_count": 11,
     "metadata": {},
     "output_type": "execute_result"
    }
   ],
   "source": [
    "l0_unit0.input_vector"
   ]
  },
  {
   "cell_type": "code",
   "execution_count": 12,
   "metadata": {},
   "outputs": [
    {
     "name": "stdout",
     "output_type": "stream",
     "text": [
      "2022-09-11 23:03:30,113 — l0_unit0-6c6eb7 — INFO — start:241 — Starting qUnit\n",
      "2022-09-11 23:03:30,153 — l1_unit0-dd3ade — INFO — start:241 — Starting qUnit\n",
      "2022-09-11 23:03:30,191 — l1_unit1-e220ed — INFO — start:241 — Starting qUnit\n",
      "2022-09-11 23:03:30,197 — l1_unit0-dd3ade — INFO — input_vector:166 — Unable to read l0_unit0-6c6eb7 input\n",
      "2022-09-11 23:03:30,240 — l1_unit1-e220ed — INFO — input_vector:166 — Unable to read l0_unit0-6c6eb7 input\n",
      "2022-09-11 23:03:31,215 — l1_unit0-dd3ade — INFO — input_vector:166 — Unable to read l0_unit0-6c6eb7 input\n",
      "2022-09-11 23:03:31,260 — l1_unit1-e220ed — INFO — input_vector:166 — Unable to read l0_unit0-6c6eb7 input\n"
     ]
    }
   ],
   "source": [
    "l0_unit0.start()\n",
    "l1_unit0.start()\n",
    "l1_unit1.start()"
   ]
  },
  {
   "cell_type": "markdown",
   "metadata": {},
   "source": [
    "Visualize the time evolution of the system from the redis status for 30 seconds:"
   ]
  },
  {
   "cell_type": "code",
   "execution_count": 13,
   "metadata": {},
   "outputs": [
    {
     "name": "stdout",
     "output_type": "stream",
     "text": [
      "{\n",
      " \"l0_unit0-6c6eb7\": \"0.5\",\n",
      " \"l0_unit0-6c6eb7 state\": \"10\",\n",
      " \"l1_unit0-dd3ade\": \"1.0\",\n",
      " \"l1_unit0-dd3ade state\": \"0\",\n",
      " \"l1_unit1-e220ed\": \"1.0\",\n",
      " \"l1_unit1-e220ed state\": \"0\"\n",
      "}\n"
     ]
    }
   ],
   "source": [
    "import time\n",
    "import json\n",
    "from IPython.display import clear_output\n",
    "\n",
    "for _ in range(30):\n",
    "    clear_output(wait=True)\n",
    "    status = qrobot.qunits.redis_utils.redis_status()\n",
    "    print(json.dumps(status, indent=1, sort_keys=True))\n",
    "    time.sleep(1)"
   ]
  },
  {
   "cell_type": "markdown",
   "metadata": {},
   "source": [
    "<img width=200 src=\"./tutorial_qunits_basicnetwork.png\"/>"
   ]
  },
  {
   "cell_type": "markdown",
   "metadata": {},
   "source": [
    "Stop the processing loops:"
   ]
  },
  {
   "cell_type": "code",
   "execution_count": 14,
   "metadata": {},
   "outputs": [
    {
     "name": "stdout",
     "output_type": "stream",
     "text": [
      "2022-09-11 23:04:05,611 — l0_unit0-6c6eb7 — INFO — stop:249 — Stopping qUnit\n",
      "2022-09-11 23:04:05,620 — l1_unit0-dd3ade — INFO — stop:249 — Stopping qUnit\n",
      "2022-09-11 23:04:05,626 — l1_unit1-e220ed — INFO — stop:249 — Stopping qUnit\n"
     ]
    }
   ],
   "source": [
    "l0_unit0.stop()\n",
    "l1_unit0.stop()\n",
    "l1_unit1.stop()"
   ]
  },
  {
   "cell_type": "markdown",
   "metadata": {},
   "source": [
    "Flush the redis to clean all traces (should not be necessary if the qUnits processing loops stopped correctly):"
   ]
  },
  {
   "cell_type": "code",
   "execution_count": 15,
   "metadata": {},
   "outputs": [
    {
     "data": {
      "text/plain": [
       "{}"
      ]
     },
     "execution_count": 15,
     "metadata": {},
     "output_type": "execute_result"
    }
   ],
   "source": [
    "qrobot.qunits.redis_utils.redis_status()"
   ]
  },
  {
   "cell_type": "code",
   "execution_count": 16,
   "metadata": {},
   "outputs": [
    {
     "name": "stdout",
     "output_type": "stream",
     "text": [
      "2022-09-11 23:04:07,655 — redis — INFO — flush_redis:81 — Flushing redis database\n"
     ]
    }
   ],
   "source": [
    "qrobot.qunits.redis_utils.flush_redis()"
   ]
  },
  {
   "cell_type": "markdown",
   "metadata": {},
   "source": [
    "Print the last 30 lines of the log:"
   ]
  },
  {
   "cell_type": "code",
   "execution_count": 17,
   "metadata": {},
   "outputs": [
    {
     "name": "stdout",
     "output_type": "stream",
     "text": [
      "2022-09-11 23:04:04,657 — l1_unit0-dd3ade — DEBUG — _loop:300 — input_vector=[0.5]\n",
      "2022-09-11 23:04:04,686 — l0_unit0-6c6eb7 — DEBUG — _loop:296 — Temporal window event 5/10\n",
      "2022-09-11 23:04:04,687 — l0_unit0-6c6eb7 — DEBUG — _loop:300 — input_vector=[0.5, 0.7]\n",
      "2022-09-11 23:04:04,789 — l0_unit0-6c6eb7 — DEBUG — _loop:296 — Temporal window event 6/10\n",
      "2022-09-11 23:04:04,790 — l0_unit0-6c6eb7 — DEBUG — _loop:300 — input_vector=[0.5, 0.7]\n",
      "2022-09-11 23:04:04,891 — l0_unit0-6c6eb7 — DEBUG — _loop:296 — Temporal window event 7/10\n",
      "2022-09-11 23:04:04,892 — l0_unit0-6c6eb7 — DEBUG — _loop:300 — input_vector=[0.5, 0.7]\n",
      "2022-09-11 23:04:04,993 — l0_unit0-6c6eb7 — DEBUG — _loop:296 — Temporal window event 8/10\n",
      "2022-09-11 23:04:04,994 — l0_unit0-6c6eb7 — DEBUG — _loop:300 — input_vector=[0.5, 0.7]\n",
      "2022-09-11 23:04:05,095 — l0_unit0-6c6eb7 — DEBUG — _loop:296 — Temporal window event 9/10\n",
      "2022-09-11 23:04:05,096 — l0_unit0-6c6eb7 — DEBUG — _loop:300 — input_vector=[0.5, 0.7]\n",
      "2022-09-11 23:04:05,197 — l0_unit0-6c6eb7 — DEBUG — _loop:296 — Temporal window event 10/10\n",
      "2022-09-11 23:04:05,198 — l0_unit0-6c6eb7 — DEBUG — _loop:300 — input_vector=[0.5, 0.7]\n",
      "2022-09-11 23:04:05,300 — l0_unit0-6c6eb7 — DEBUG — _loop:310 — Querying for state [0.1, 0.5]\n",
      "2022-09-11 23:04:05,322 — l1_unit1-e220ed — DEBUG — _loop:296 — Temporal window event 5/5\n",
      "2022-09-11 23:04:05,325 — l1_unit1-e220ed — DEBUG — _loop:300 — input_vector=[0.5]\n",
      "2022-09-11 23:04:05,354 — l0_unit0-6c6eb7 — DEBUG — _loop:317 — Writing output on redis\n",
      "2022-09-11 23:04:05,357 — l0_unit0-6c6eb7 — DEBUG — _loop:291 — Initializing a new temporal window\n",
      "2022-09-11 23:04:05,357 — l0_unit0-6c6eb7 — DEBUG — _loop:296 — Temporal window event 1/10\n",
      "2022-09-11 23:04:05,358 — l0_unit0-6c6eb7 — DEBUG — _loop:300 — input_vector=[0.5, 0.7]\n",
      "2022-09-11 23:04:05,458 — l0_unit0-6c6eb7 — DEBUG — _loop:296 — Temporal window event 2/10\n",
      "2022-09-11 23:04:05,460 — l0_unit0-6c6eb7 — DEBUG — _loop:300 — input_vector=[0.5, 0.7]\n",
      "2022-09-11 23:04:05,561 — l0_unit0-6c6eb7 — DEBUG — _loop:296 — Temporal window event 3/10\n",
      "2022-09-11 23:04:05,563 — l0_unit0-6c6eb7 — DEBUG — _loop:300 — input_vector=[0.5, 0.7]\n",
      "2022-09-11 23:04:05,611 — l0_unit0-6c6eb7 — INFO — stop:249 — Stopping qUnit\n",
      "2022-09-11 23:04:05,620 — l1_unit0-dd3ade — INFO — stop:249 — Stopping qUnit\n",
      "2022-09-11 23:04:05,626 — l1_unit1-e220ed — INFO — stop:249 — Stopping qUnit\n",
      "2022-09-11 23:04:07,655 — redis — INFO — flush_redis:81 — Flushing redis database\n",
      "2022-09-11 23:04:07,660 — redis — DEBUG — flush_redis:82 — Previous redis state: {}\n",
      "2022-09-11 23:04:07,666 — redis — DEBUG — flush_redis:85 — Current redis state: {}\n"
     ]
    }
   ],
   "source": [
    "log_file = qrobot._logger.log_file()\n",
    "n_lines = 30\n",
    "\n",
    "with open(log_file) as log:\n",
    "    for line in (log.readlines() [-n_lines:]):\n",
    "        print(line, end ='')"
   ]
  }
 ],
 "metadata": {
  "kernelspec": {
   "display_name": "Python 3 (ipykernel)",
   "language": "python",
   "name": "python3"
  },
  "language_info": {
   "codemirror_mode": {
    "name": "ipython",
    "version": 3
   },
   "file_extension": ".py",
   "mimetype": "text/x-python",
   "name": "python",
   "nbconvert_exporter": "python",
   "pygments_lexer": "ipython3",
   "version": "3.8.10"
  }
 },
 "nbformat": 4,
 "nbformat_minor": 4
}
