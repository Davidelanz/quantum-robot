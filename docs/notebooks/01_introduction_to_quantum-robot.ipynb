{
 "cells": [
  {
   "cell_type": "markdown",
   "id": "6c70cfaa-05ad-4ea7-9cc5-4b4fb125cf5e",
   "metadata": {},
   "source": [
    "# Introduction to ``quantum-robot``\n",
    "\n",
    "``quantum-robot`` is a Python package for quantum-like perception modeling for robotics. The package exploits [Qiskit framework](https://qiskit.org/), implementing the models on quantum circuits which can be simulated on a classical computer or sent to a quantum backend (service provided by IBM Quantum Experience).\n",
    "\n",
    "The basic components of ``quantum-robot`` are the following:\n",
    "\n",
    "- QUnits (the basic element of our architecture, processing sensory data returning processed outputs)\n",
    "- Models (the internal quantum model which define how the qUnit deals with input data)\n",
    "- Bursts (which define how the qUnit exploits the internal quantum model, providing the qUnit's output)\n",
    "\n",
    "\n",
    "![Components diagram](./01_imgs/components.png)\n",
    "\n",
    "In order to understand how these components work, we need first a conceptual example."
   ]
  },
  {
   "cell_type": "markdown",
   "id": "c7f1c2db-8744-4096-82d8-cb9526171653",
   "metadata": {},
   "source": [
    "## Concepts"
   ]
  },
  {
   "cell_type": "markdown",
   "id": "e5b6f5c6-3e14-406e-b7dc-6e7b3722b62a",
   "metadata": {},
   "source": [
    "### The sleeping dead cat\n",
    "\n",
    "A man is in his living room. \n",
    "He sees his cat standing still on a shelf. \n",
    "Nothing but some light movements of the \n",
    "cat's fur is noticed by the man, \n",
    "who cannot decide whether the cat is **dead** \n",
    "(and the perceived movement is due to an air current) \n",
    "or if it is just **asleep**.\n",
    "\n",
    "![Concept Image 1](./01_imgs/concept1.jpg)\n",
    "\n",
    "Right now he is experiencing a **superposition**\n",
    "of conscious states, because the perceptual\n",
    "stimuli that he receives are not strong\n",
    "enough to make him clearly feel that the cat\n",
    "is sleeping, neither that the cat is dead.\n",
    "\n",
    "Over time, his consciousness oscillates between the two\n",
    "superposition states (at least, until he does not receive a\n",
    "stronger stimulus that makes him certain about one of\n",
    "the two situations)\n",
    "\n",
    "![Concept Image 2](./01_imgs/concept2.jpg)"
   ]
  },
  {
   "cell_type": "markdown",
   "id": "29e0a5c4-1a47-4c40-a9c6-aa2ff586cddc",
   "metadata": {},
   "source": [
    "### Modeling Consciousness with Quantum Mechanics\n",
    "\n",
    "**Quantum-like (QL) perception models** in cognitive sciences reproduce this behavior by\n",
    "exploiting quantum systems properties. Considering the most simple quantum system, the\n",
    "qubit, QL models can mimic behaviors like the one we just saw.\n",
    "\n",
    "A **qubit** is a two-state quantum-mechanical system (e.g., the spin of the electron in which\n",
    "the two states can be taken as spin up and spin down).\n",
    "\n",
    "![Concept Image 3](./01_imgs/concept3.jpg)\n",
    "\n",
    "In quantum computing, a qubit is the basic unit of\n",
    "quantum information —the quantum version of the\n",
    "classical binary bit. Whether in a classical system a bit\n",
    "has to be in one state or the other (namely, 0 or 1), a\n",
    "qubit can be in a **coherent superposition of both\n",
    "states** simultaneously."
   ]
  },
  {
   "cell_type": "markdown",
   "id": "c2cf8b03-dae2-4f2f-b198-a6f12445cf77",
   "metadata": {},
   "source": [
    "**Measuring** the qubit' state causes its **collapse** on one\n",
    "of the two states, i.e., the qubit' state pass from a\n",
    "superposition of states to being a single, defined state.\n",
    "A measurement **stops the evolution** of the system over time and forces its state into one of the\n",
    "two basis states (the ones in superposition). When the system is not observed anymore, it\n",
    "**resumes** its evolution over time.\n",
    "\n",
    "![Concept Image 4](./01_imgs/concept4.jpg)\n",
    "\n",
    "\n",
    "> \\[Through the superposition\\] *\"the two alternatives exist at the perceptual-cognitive level. Then, they\n",
    "> pass at the decisional and conscientious level towards a selection of the two subsisting\n",
    "> alternatives. An alternative logical structure is delineated, a structure of the simultaneous YES\n",
    "> and NO\"* ([Elio Conte](https://www.brainfactor.it/cognizione-quantistica-intervista-a-elio-conte/))\n",
    "\n",
    "In this alternative logical structure, out cat is dead and yet sleeps simultaneously."
   ]
  },
  {
   "cell_type": "markdown",
   "id": "1a02735b-c550-4508-9bf4-6f125377964a",
   "metadata": {},
   "source": [
    "What we do with robots is to reproduce this behavior through \n",
    "simulated quantum systems:\n",
    "\n",
    "![Concept Image 5](./01_imgs/concept5.jpg)\n",
    "\n",
    "Based on the perceptual stimuli received, the\n",
    "robot represents its knowledge by means of a\n",
    "simulated quantum system. When a **measure**\n",
    "occurs, the system collapses to a defined state,\n",
    "which is the robot's **current \"conscious\" state**.\n",
    "Hence, after collecting sensorial data for a \n",
    "specific period of time $\\Delta T$, a measurement occurs:\n",
    "\n",
    "![Concept Image 6](./01_imgs/concept6.jpg)  "
   ]
  },
  {
   "cell_type": "markdown",
   "id": "dc029fbf-7b1a-49d0-a736-f8b4deb6aff3",
   "metadata": {},
   "source": [
    "## Implementation\n",
    "\n",
    "How we actually implemented such a system? As stated before, we have:\n",
    "\n",
    "- Our **sensorial input** (e.g. the binary signal 0/1 for \"cat seems asleep\"/\"cat seems dead\" that we receive from the outer world)\n",
    "- A QL **model** which retains information for a period of time $\\Delta T$ (**encoding**) and then performs a single measurement on that information (**decoding**)\n",
    "- A so-called **burst** which returns an output signal based on the decoding (e.g. the binary signal 0/1 for \"cat is asleep!\"/\"cat is dead!\")\n",
    "\n",
    "The QL model and the burst are wrapped into a **qUnit**, which is a handy object which allow real-time encoding/decoding on a separate python process."
   ]
  },
  {
   "cell_type": "markdown",
   "id": "9d145ba6-0715-4010-ae58-632c8d9cab16",
   "metadata": {},
   "source": [
    "![Components diagram 2](./01_imgs/components.png)"
   ]
  },
  {
   "cell_type": "markdown",
   "id": "2f026541",
   "metadata": {},
   "source": [
    "### Sensorial Input\n",
    "\n",
    "Considering a time window of 4 events, let's start with a sequence of binary events:"
   ]
  },
  {
   "cell_type": "code",
   "execution_count": 34,
   "id": "a7435260",
   "metadata": {},
   "outputs": [],
   "source": [
    "tau = 4\n",
    "\n",
    "sequence = [\n",
    "    1, # The cat is asleep!\n",
    "    0, # The cat is dead!\n",
    "    1, # The cat is asleep!\n",
    "    1, # The cat is asleep!\n",
    "]"
   ]
  },
  {
   "cell_type": "markdown",
   "id": "84ae955d",
   "metadata": {},
   "source": [
    "To display the events in the considered temporal window:"
   ]
  },
  {
   "cell_type": "code",
   "execution_count": 35,
   "id": "ba54bc34",
   "metadata": {},
   "outputs": [
    {
     "data": {
      "image/png": "[encoded data removed]",
      "text/plain": [
       "<Figure size 640x480 with 1 Axes>"
      ]
     },
     "metadata": {},
     "output_type": "display_data"
    }
   ],
   "source": [
    "import matplotlib.pyplot as plt\n",
    "\n",
    "plt.figure()\n",
    "plt.stem(sequence, use_line_collection=True, linefmt=\"w\", basefmt=\"w\")\n",
    "plt.xlabel(\"Time index t\")\n",
    "plt.ylabel(\"Input value x\")\n",
    "plt.title(\"Input sequence\")\n",
    "plt.show()"
   ]
  },
  {
   "cell_type": "markdown",
   "id": "98de7002",
   "metadata": {
    "tags": []
   },
   "source": [
    "### Model\n",
    "\n",
    "The model acquires binary data inside a specific temporal window, encodes it by rotating its state vector, and finally the measurement give us a binary outcome following quantum measurement probability. "
   ]
  },
  {
   "cell_type": "markdown",
   "id": "30eb732d",
   "metadata": {},
   "source": [
    "#### Information encoding"
   ]
  },
  {
   "cell_type": "markdown",
   "id": "6fc2267d",
   "metadata": {},
   "source": [
    "We use here a single qubit model ($n=1$) to encode our binary input for our temporal window of $\\tau = 4$:"
   ]
  },
  {
   "cell_type": "code",
   "execution_count": 39,
   "id": "b785431d",
   "metadata": {},
   "outputs": [],
   "source": [
    "from qrobot.models import AngularModel\n",
    "\n",
    "model = AngularModel(n = 1, tau = tau)"
   ]
  },
  {
   "cell_type": "markdown",
   "id": "7c83d256",
   "metadata": {
    "tags": []
   },
   "source": [
    "In order to understand how such model works, we can define our event sequence\n",
    "\n",
    "<img width=500 src=\"./01_imgs/model_workflow_time_window.png\"/>\n",
    "\n",
    "as follows: \n",
    "\n",
    "$$\n",
    "\\Sigma = [1, 0, 1, 1]\n",
    "$$\n",
    "\n",
    "As previously said, we associate the binary event $\\alpha_i = 0$ (\"the cat is dead\") with the basis state $\\lvert 0 \\rangle$ and the binary event $\\alpha_i = 1$ (\"the cat is asleep\") with the basis state $\\lvert 1 \\rangle$. \n",
    "\n",
    "We define the frequency of an event associated with a basis state as:\n",
    "\n",
    "$$\n",
    "\\tau_{\\lvert 0 \\rangle}=1 \\quad\\quad\n",
    "\\tau_{\\lvert 1 \\rangle}=3\n",
    "$$\n",
    "\n",
    "So, the relative frequency of an event associated with a basis state is:\n",
    "\n",
    "$$\n",
    "f_{\\lvert 0 \\rangle}=\\frac{1}{4} \\quad\\quad\n",
    "f_{\\lvert 1 \\rangle}=\\frac{3}{4}\n",
    "$$\n",
    "\n",
    "Now, we encode such information in the qubit in the Bloch sphere representation's angle $\\theta$ of a qubit:\n",
    "\n",
    "<img width=200 src=\"./01_imgs/bloch_sphere.png\"/>\n",
    "\n",
    "$$\n",
    "\\theta = \\pi f_{\\lvert 1 \\rangle}\n",
    "$$\n",
    "\n",
    "Note that we consider here the **AngularModel**, which encodes information directly on the angle of the Bloch sphere representation. Other models are available."
   ]
  },
  {
   "cell_type": "markdown",
   "id": "8d2907bc",
   "metadata": {
    "tags": []
   },
   "source": []
  },
  {
   "cell_type": "markdown",
   "id": "c34c6866",
   "metadata": {
    "tags": []
   },
   "source": [
    "In order to encode such information, we initialize the qubit $\\lvert \\psi \\rangle$ at $\\lvert 0 \\rangle$ and we use a unitary operator $U$ to apply a fractional rotation of $\\pi/\\tau$ along the $y$ axis of the Bloch sphere representation.\n",
    "This operator has to be applied to the qubit $\\tau_{\\lvert 1 \\rangle}$ times for our sequence of events $\\Sigma$ (i.e., frequency of \"the cat is asleep\" events) in order to obtain the desired encoding of $\\theta = \\pi f_{\\lvert 1 \\rangle}$.\n",
    "\n",
    "To apply to a qubit a fractional rotation around the $y$ axis of the Bloch sphere representation we need a $R_y$ gate, which equates to a rotation around the $y$ axis by $\\theta$ radians:\n",
    "\n",
    "<img width=300 align=center src=\"./01_imgs/rotation_y_gate.png\"/>\n",
    "\n",
    "The correspondent operator is the unitary operator $R_y$:\n",
    "\n",
    "$$\n",
    "R_y(\\theta) \n",
    "=\n",
    "\\exp\\left({-i\\frac{\\theta}{2}Y}\\right)\n",
    "=\n",
    "\\begin{bmatrix}\n",
    "\\cos \\frac{\\theta}{2}& \n",
    "-\\sin \\frac{\\theta}{2}\\\\\n",
    "\\sin \\frac{\\theta}{2}& \n",
    "\\cos \\frac{\\theta}{2}\n",
    "\\end{bmatrix}.\n",
    "$$\n",
    "\n",
    "We can see in our temporal window how the qubit's state vector evolves in the Bloch sphere representation:\n",
    "\n",
    "<img width=1200 align=center src=\"./01_imgs/block_sphere_sequence.jpg\"/>"
   ]
  },
  {
   "cell_type": "markdown",
   "id": "bcd43a63",
   "metadata": {},
   "source": [
    "With the `quantum-robot` package, we can use the `encode` method of our `model` object to encode event data in the model:"
   ]
  },
  {
   "cell_type": "code",
   "execution_count": 40,
   "id": "7fa496b7",
   "metadata": {},
   "outputs": [],
   "source": [
    "model.clear()  # to re-initialize the model (allows re-runing this cell without double the encoding)\n",
    "\n",
    "for t in range(0, model.tau):  # loop throug the event sequence\n",
    "    model.encode(sequence[t], dim=0)"
   ]
  },
  {
   "cell_type": "markdown",
   "id": "cc3f12bf",
   "metadata": {},
   "source": [
    "We can see how then our model built a quantum circuit applying the rotation gates when needed:"
   ]
  },
  {
   "cell_type": "code",
   "execution_count": 41,
   "id": "fc5632e6",
   "metadata": {},
   "outputs": [
    {
     "name": "stdout",
     "output_type": "stream",
     "text": [
      "     ┌─────────┐┌───────┐┌─────────┐┌─────────┐\n",
      "q_0: ┤ Ry(π/4) ├┤ Ry(0) ├┤ Ry(π/4) ├┤ Ry(π/4) ├\n",
      "     └─────────┘└───────┘└─────────┘└─────────┘\n",
      "c: 1/══════════════════════════════════════════\n",
      "                                               \n"
     ]
    }
   ],
   "source": [
    "model.print_circuit()"
   ]
  },
  {
   "cell_type": "markdown",
   "id": "cd118cf7",
   "metadata": {},
   "source": [
    "From the diagram it is possible to notice how we have a rotation for every $\\lvert 1 \\rangle$ event and a null rotation for every $\\lvert 0 \\rangle$ event."
   ]
  },
  {
   "cell_type": "markdown",
   "id": "c2d831f7",
   "metadata": {},
   "source": [
    "Given our input sequece, at the end of the temporal window our model is in the following state:"
   ]
  },
  {
   "cell_type": "code",
   "execution_count": 42,
   "id": "e7d3d8f4",
   "metadata": {},
   "outputs": [
    {
     "data": {
      "image/png": "[encoded data removed]",
      "text/plain": [
       "<Figure size 1500x400 with 4 Axes>"
      ]
     },
     "metadata": {},
     "output_type": "display_data"
    }
   ],
   "source": [
    "model.plot_state_mat()"
   ]
  },
  {
   "cell_type": "markdown",
   "id": "39ac81ed",
   "metadata": {},
   "source": [
    "#### Information decoding"
   ]
  },
  {
   "cell_type": "markdown",
   "id": "0fbbf1ef",
   "metadata": {},
   "source": [
    "(...)"
   ]
  },
  {
   "cell_type": "code",
   "execution_count": null,
   "id": "3b1ff238",
   "metadata": {},
   "outputs": [],
   "source": []
  },
  {
   "cell_type": "markdown",
   "id": "8f859b1f-777d-410a-9b53-2e21ccd95241",
   "metadata": {},
   "source": [
    "### Burst\n",
    "\n",
    "(...)"
   ]
  },
  {
   "cell_type": "markdown",
   "id": "ce5688d8-2345-428f-ab5f-71ade61fd2bf",
   "metadata": {},
   "source": [
    "### qUnit\n",
    "\n",
    "(...)"
   ]
  },
  {
   "cell_type": "markdown",
   "id": "18c14768-5792-4cbb-a12a-f1c1e225849b",
   "metadata": {},
   "source": [
    "### Connecting the brain\n",
    "\n",
    "(...)"
   ]
  },
  {
   "cell_type": "code",
   "execution_count": null,
   "id": "93bb6f57-d596-4ec0-95fc-c48edbb9e2e2",
   "metadata": {},
   "outputs": [],
   "source": []
  }
 ],
 "metadata": {
  "kernelspec": {
   "display_name": "Python 3 (ipykernel)",
   "language": "python",
   "name": "python3"
  },
  "language_info": {
   "codemirror_mode": {
    "name": "ipython",
    "version": 3
   },
   "file_extension": ".py",
   "mimetype": "text/x-python",
   "name": "python",
   "nbconvert_exporter": "python",
   "pygments_lexer": "ipython3",
   "version": "3.8.10"
  },
  "vscode": {
   "interpreter": {
    "hash": "483965897755a024b4cf723dd995832101f6535dcd1077aa9a6ac8fb44830adf"
   }
  }
 },
 "nbformat": 4,
 "nbformat_minor": 5
}
