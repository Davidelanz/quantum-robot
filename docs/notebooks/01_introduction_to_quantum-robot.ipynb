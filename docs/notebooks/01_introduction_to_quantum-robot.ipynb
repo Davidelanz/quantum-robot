{
 "cells": [
  {
   "cell_type": "markdown",
   "id": "6c70cfaa-05ad-4ea7-9cc5-4b4fb125cf5e",
   "metadata": {},
   "source": [
    "# Introduction to ``quantum-robot``\n",
    "\n",
    "``quantum-robot`` is a Python package for quantum-like perception modeling for robotics. The package exploits [Qiskit framework](https://qiskit.org/), implementing the models on quantum circuits which can be simulated on a classical computer or sent to a quantum backend (service provided by IBM Quantum Experience).\n",
    "\n",
    "The basic components of ``quantum-robot`` are the following:\n",
    "\n",
    "- QUnits (the basic element of our architecture, processing sensory data returning processed outputs)\n",
    "- Models (the internal quantum model which define how the qUnit deals with input data)\n",
    "- Bursts (which define how the qUnit exploits the internal quantum model, providing the qUnit's output)\n",
    "\n",
    "\n",
    "![Components diagram](../images/components.png)\n",
    "\n",
    "In order to understand how these components work, we need first a conceptual example."
   ]
  },
  {
   "cell_type": "markdown",
   "id": "c7f1c2db-8744-4096-82d8-cb9526171653",
   "metadata": {},
   "source": [
    "## Concepts"
   ]
  },
  {
   "cell_type": "markdown",
   "id": "e5b6f5c6-3e14-406e-b7dc-6e7b3722b62a",
   "metadata": {},
   "source": [
    "### The sleeping dead cat\n",
    "\n",
    "A man is in his living room. \n",
    "He sees his cat standing still on a shelf. \n",
    "Nothing but some light movements of the \n",
    "cat's fur is noticed by the man, \n",
    "who cannot decide whether the cat is **dead** \n",
    "(and the perceived movement is due to an air current) \n",
    "or if it is just **asleep**.\n",
    "\n",
    "![Concept Image 1](../images/concept1.jpg)\n",
    "\n",
    "Right now he is experiencing a **superposition**\n",
    "of conscious states, because the perceptual\n",
    "stimuli that he receives are not strong\n",
    "enough to make him clearly feel that the cat\n",
    "is sleeping, neither that the cat is dead.\n",
    "\n",
    "Over time, his consciousness oscillates between the two\n",
    "superposition states (at least, until he does not receive a\n",
    "stronger stimulus that makes him certain about one of\n",
    "the two situations)\n",
    "\n",
    "![Concept Image 2](../images/concept2.jpg)"
   ]
  },
  {
   "cell_type": "markdown",
   "id": "29e0a5c4-1a47-4c40-a9c6-aa2ff586cddc",
   "metadata": {},
   "source": [
    "### Modeling Consciousness with Quantum Mechanics\n",
    "\n",
    "**Quantum-like (QL) perception models** in cognitive sciences reproduce this behavior by\n",
    "exploiting quantum systems properties. Considering the most simple quantum system, the\n",
    "qubit, QL models can mimic behaviors like the one we just saw.\n",
    "\n",
    "A **qubit** is a two-state quantum-mechanical system (e.g., the spin of the electron in which\n",
    "the two states can be taken as spin up and spin down).\n",
    "\n",
    "![Concept Image 3](../images/concept3.jpg)\n",
    "\n",
    "In quantum computing, a qubit is the basic unit of\n",
    "quantum information —the quantum version of the\n",
    "classical binary bit. Whether in a classical system a bit\n",
    "has to be in one state or the other (namely, 0 or 1), a\n",
    "qubit can be in a **coherent superposition of both\n",
    "states** simultaneously."
   ]
  },
  {
   "cell_type": "markdown",
   "id": "c2cf8b03-dae2-4f2f-b198-a6f12445cf77",
   "metadata": {},
   "source": [
    "**Measuring** the qubit' state causes its **collapse** on one\n",
    "of the two states, i.e., the qubit' state pass from a\n",
    "superposition of states to being a single, defined state.\n",
    "A measurement **stops the evolution** of the system over time and forces its state into one of the\n",
    "two basis states (the ones in superposition). When the system is not observed anymore, it\n",
    "**resumes** its evolution over time.\n",
    "\n",
    "![Concept Image 4](../images/concept4.jpg)\n",
    "\n",
    "\n",
    "> \\[Through the superposition\\] *\"the two alternatives exist at the perceptual-cognitive level. Then, they\n",
    "> pass at the decisional and conscientious level towards a selection of the two subsisting\n",
    "> alternatives. An alternative logical structure is delineated, a structure of the simultaneous YES\n",
    "> and NO\"* ([Elio Conte](https://www.brainfactor.it/cognizione-quantistica-intervista-a-elio-conte/))\n",
    "\n",
    "In this alternative logical structure, out cat is dead and yet sleeps simultaneously."
   ]
  },
  {
   "cell_type": "markdown",
   "id": "1a02735b-c550-4508-9bf4-6f125377964a",
   "metadata": {},
   "source": [
    "What we do with robots is to reproduce this behavior through \n",
    "simulated quantum systems:\n",
    "\n",
    "![Concept Image 5](../images/concept5.jpg)\n",
    "\n",
    "Based on the perceptual stimuli received, the\n",
    "robot represents its knowledge by means of a\n",
    "simulated quantum system. When a **measure**\n",
    "occurs, the system collapses to a defined state,\n",
    "which is the robot's **current \"conscious\" state**.\n",
    "Hence, after collecting sensorial data for a \n",
    "specific period of time $\\Delta T$, a measurement occurs:\n",
    "\n",
    "![Concept Image 6](../images/concept6.jpg)  "
   ]
  },
  {
   "cell_type": "markdown",
   "id": "dc029fbf-7b1a-49d0-a736-f8b4deb6aff3",
   "metadata": {},
   "source": [
    "## Implementation\n",
    "\n",
    "How we actually implemented such a system? As stated before, we have:\n",
    "\n",
    "- Our **sensorial input** (e.g. the binary signal 0/1 for \"cat seems asleep\"/\"cat seems dead\" that we receive from the outer world)\n",
    "- A QL **model** which retains information for a period of time $\\Delta T$ (**encoding**) and then performs a single measurement on that information (**decoding**)\n",
    "- A so-called **burst** which returns an output signal based on the decoding (e.g. the binary signal 0/1 for \"cat is asleep!\"/\"cat is dead!\")\n",
    "\n",
    "The QL model and the burst are wrapped into a **qUnit**, which is a handy object which allow real-time encoding/decoding on a separate python process (more on that later)."
   ]
  },
  {
   "cell_type": "markdown",
   "id": "9d145ba6-0715-4010-ae58-632c8d9cab16",
   "metadata": {},
   "source": [
    "![Components diagram 2](../images/components.png)"
   ]
  },
  {
   "cell_type": "markdown",
   "id": "829ff293-d311-4556-8f4b-7c3f8983f812",
   "metadata": {},
   "source": [
    "### Sensorial Input\n",
    "\n",
    "(...)"
   ]
  },
  {
   "cell_type": "markdown",
   "id": "a5f2ef9c-6585-4a0c-b71a-4124fbe06a9b",
   "metadata": {
    "tags": []
   },
   "source": [
    "### Model\n",
    "\n",
    "(...)"
   ]
  },
  {
   "cell_type": "code",
   "execution_count": 1,
   "id": "5d72b881-d0da-4bbd-9f26-a84cce192c36",
   "metadata": {},
   "outputs": [],
   "source": [
    "from qrobot.models import AngularModel"
   ]
  },
  {
   "cell_type": "markdown",
   "id": "8f859b1f-777d-410a-9b53-2e21ccd95241",
   "metadata": {},
   "source": [
    "### Burst\n",
    "\n",
    "(...)"
   ]
  },
  {
   "cell_type": "markdown",
   "id": "ce5688d8-2345-428f-ab5f-71ade61fd2bf",
   "metadata": {},
   "source": [
    "### qUnit\n",
    "\n",
    "(...)"
   ]
  },
  {
   "cell_type": "markdown",
   "id": "18c14768-5792-4cbb-a12a-f1c1e225849b",
   "metadata": {},
   "source": [
    "### Connecting the brain\n",
    "\n",
    "(...)"
   ]
  },
  {
   "cell_type": "code",
   "execution_count": null,
   "id": "93bb6f57-d596-4ec0-95fc-c48edbb9e2e2",
   "metadata": {},
   "outputs": [],
   "source": []
  }
 ],
 "metadata": {
  "kernelspec": {
   "display_name": "Python 3.8.10 ('.venv': poetry)",
   "language": "python",
   "name": "python3"
  },
  "language_info": {
   "codemirror_mode": {
    "name": "ipython",
    "version": 3
   },
   "file_extension": ".py",
   "mimetype": "text/x-python",
   "name": "python",
   "nbconvert_exporter": "python",
   "pygments_lexer": "ipython3",
   "version": "3.8.10"
  },
  "vscode": {
   "interpreter": {
    "hash": "483965897755a024b4cf723dd995832101f6535dcd1077aa9a6ac8fb44830adf"
   }
  }
 },
 "nbformat": 4,
 "nbformat_minor": 5
}
